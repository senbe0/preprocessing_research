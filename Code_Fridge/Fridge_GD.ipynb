{
 "cells": [
  {
   "cell_type": "code",
   "execution_count": 1,
   "id": "1e0ce24f-810f-414e-a10d-a5280b54d253",
   "metadata": {},
   "outputs": [
    {
     "name": "stdout",
     "output_type": "stream",
     "text": [
      "['high' 'low']\n",
      "   temp_condition_high  temp_condition_low\n",
      "0                  1.0                 0.0\n",
      "1                  1.0                 0.0\n",
      "2                  0.0                 1.0\n",
      "3                  0.0                 1.0\n",
      "4                  1.0                 0.0\n"
     ]
    },
    {
     "name": "stderr",
     "output_type": "stream",
     "text": [
      "/home/eiji/miniconda3/envs/tf/lib/python3.9/site-packages/sklearn/preprocessing/_encoders.py:972: FutureWarning: `sparse` was renamed to `sparse_output` in version 1.2 and will be removed in 1.4. `sparse_output` is ignored unless you leave `sparse` to its default value.\n",
      "  warnings.warn(\n"
     ]
    }
   ],
   "source": [
    "import pandas as pd\n",
    "from sklearn.preprocessing import OneHotEncoder\n",
    "\n",
    "# CSVファイルを読み込む\n",
    "df = pd.read_csv(\"/home/eiji/project/g/data/TON_iot/Processed_IoT_dataset/IoT_Fridge.csv\")\n",
    "\n",
    "# temp_conditionの文字列をトリム（前後の空白削除）\n",
    "df['temp_condition'] = df['temp_condition'].str.strip()\n",
    "\n",
    "# 一意の値をチェック\n",
    "print(df['temp_condition'].unique())\n",
    "\n",
    "# OneHotEncoderのインスタンスを作成\n",
    "encoder = OneHotEncoder(sparse=False)\n",
    "\n",
    "# ワンホットエンコーディングを適用\n",
    "encoded = encoder.fit_transform(df[['temp_condition']])\n",
    "encoded_df = pd.DataFrame(encoded, columns=encoder.get_feature_names_out())\n",
    "# 結果の確認\n",
    "print(encoded_df.head())\n",
    "\n",
    "df_combined = pd.concat([df, encoded_df], axis=1)"
   ]
  },
  {
   "cell_type": "markdown",
   "id": "92b351b5-be45-4302-92b3-24253fdf2bbc",
   "metadata": {},
   "source": [
    "# 時間"
   ]
  },
  {
   "cell_type": "code",
   "execution_count": 2,
   "id": "5f714767-42e0-4eab-9789-5a4d323ed48c",
   "metadata": {},
   "outputs": [],
   "source": [
    "df_combined['time'] = df_combined['time'].str.strip()"
   ]
  },
  {
   "cell_type": "code",
   "execution_count": 3,
   "id": "7d931f31-4ecb-4dd9-80eb-6697d5bc939c",
   "metadata": {},
   "outputs": [],
   "source": [
    "df_combined['time']  = pd.to_datetime(df_combined['time'], format='%H:%M:%S').dt.time"
   ]
  },
  {
   "cell_type": "code",
   "execution_count": 4,
   "id": "9a8aa722-2b9b-4603-9ab7-66b42a534357",
   "metadata": {},
   "outputs": [],
   "source": [
    "df = df_combined"
   ]
  },
  {
   "cell_type": "code",
   "execution_count": 5,
   "id": "c4c8e4f3-6284-44c0-8469-70edb09efae5",
   "metadata": {},
   "outputs": [],
   "source": [
    "df['hour'] = df['time'].apply(lambda x: x.hour)\n",
    "df['minute'] = df['time'].apply(lambda x: x.minute)\n",
    "df['second'] = df['time'].apply(lambda x: x.second)"
   ]
  },
  {
   "cell_type": "code",
   "execution_count": 6,
   "id": "9018464a-bebc-4d58-8ef8-741fb5a59b32",
   "metadata": {},
   "outputs": [],
   "source": [
    "df = df.drop(columns=['date', 'time', 'temp_condition', 'type'])"
   ]
  },
  {
   "cell_type": "code",
   "execution_count": 7,
   "id": "070ff0bf-834d-487f-b9a7-c29d708789a5",
   "metadata": {},
   "outputs": [],
   "source": [
    "new_order = ['hour', 'minute', 'second', 'fridge_temperature', 'temp_condition_high', 'temp_condition_low', 'label']"
   ]
  },
  {
   "cell_type": "code",
   "execution_count": 8,
   "id": "36c5e59b-90a6-41bf-8b89-bb9f2e3579f0",
   "metadata": {},
   "outputs": [],
   "source": [
    "df = df[new_order]"
   ]
  },
  {
   "cell_type": "code",
   "execution_count": 9,
   "id": "069adccd-1dd3-42c1-bb11-bb87b8a3262b",
   "metadata": {},
   "outputs": [
    {
     "data": {
      "text/html": [
       "<div>\n",
       "<style scoped>\n",
       "    .dataframe tbody tr th:only-of-type {\n",
       "        vertical-align: middle;\n",
       "    }\n",
       "\n",
       "    .dataframe tbody tr th {\n",
       "        vertical-align: top;\n",
       "    }\n",
       "\n",
       "    .dataframe thead th {\n",
       "        text-align: right;\n",
       "    }\n",
       "</style>\n",
       "<table border=\"1\" class=\"dataframe\">\n",
       "  <thead>\n",
       "    <tr style=\"text-align: right;\">\n",
       "      <th></th>\n",
       "      <th>hour</th>\n",
       "      <th>minute</th>\n",
       "      <th>second</th>\n",
       "      <th>fridge_temperature</th>\n",
       "      <th>temp_condition_high</th>\n",
       "      <th>temp_condition_low</th>\n",
       "      <th>label</th>\n",
       "    </tr>\n",
       "  </thead>\n",
       "  <tbody>\n",
       "    <tr>\n",
       "      <th>0</th>\n",
       "      <td>12</td>\n",
       "      <td>36</td>\n",
       "      <td>52</td>\n",
       "      <td>13.10</td>\n",
       "      <td>1.0</td>\n",
       "      <td>0.0</td>\n",
       "      <td>0</td>\n",
       "    </tr>\n",
       "    <tr>\n",
       "      <th>1</th>\n",
       "      <td>12</td>\n",
       "      <td>36</td>\n",
       "      <td>53</td>\n",
       "      <td>8.65</td>\n",
       "      <td>1.0</td>\n",
       "      <td>0.0</td>\n",
       "      <td>0</td>\n",
       "    </tr>\n",
       "    <tr>\n",
       "      <th>2</th>\n",
       "      <td>12</td>\n",
       "      <td>36</td>\n",
       "      <td>54</td>\n",
       "      <td>2.00</td>\n",
       "      <td>0.0</td>\n",
       "      <td>1.0</td>\n",
       "      <td>0</td>\n",
       "    </tr>\n",
       "    <tr>\n",
       "      <th>3</th>\n",
       "      <td>12</td>\n",
       "      <td>36</td>\n",
       "      <td>55</td>\n",
       "      <td>4.80</td>\n",
       "      <td>0.0</td>\n",
       "      <td>1.0</td>\n",
       "      <td>0</td>\n",
       "    </tr>\n",
       "    <tr>\n",
       "      <th>4</th>\n",
       "      <td>12</td>\n",
       "      <td>36</td>\n",
       "      <td>56</td>\n",
       "      <td>10.70</td>\n",
       "      <td>1.0</td>\n",
       "      <td>0.0</td>\n",
       "      <td>0</td>\n",
       "    </tr>\n",
       "    <tr>\n",
       "      <th>...</th>\n",
       "      <td>...</td>\n",
       "      <td>...</td>\n",
       "      <td>...</td>\n",
       "      <td>...</td>\n",
       "      <td>...</td>\n",
       "      <td>...</td>\n",
       "      <td>...</td>\n",
       "    </tr>\n",
       "    <tr>\n",
       "      <th>587071</th>\n",
       "      <td>12</td>\n",
       "      <td>41</td>\n",
       "      <td>17</td>\n",
       "      <td>4.00</td>\n",
       "      <td>0.0</td>\n",
       "      <td>1.0</td>\n",
       "      <td>0</td>\n",
       "    </tr>\n",
       "    <tr>\n",
       "      <th>587072</th>\n",
       "      <td>12</td>\n",
       "      <td>41</td>\n",
       "      <td>17</td>\n",
       "      <td>6.05</td>\n",
       "      <td>1.0</td>\n",
       "      <td>0.0</td>\n",
       "      <td>0</td>\n",
       "    </tr>\n",
       "    <tr>\n",
       "      <th>587073</th>\n",
       "      <td>12</td>\n",
       "      <td>41</td>\n",
       "      <td>17</td>\n",
       "      <td>12.80</td>\n",
       "      <td>1.0</td>\n",
       "      <td>0.0</td>\n",
       "      <td>0</td>\n",
       "    </tr>\n",
       "    <tr>\n",
       "      <th>587074</th>\n",
       "      <td>12</td>\n",
       "      <td>41</td>\n",
       "      <td>18</td>\n",
       "      <td>6.50</td>\n",
       "      <td>1.0</td>\n",
       "      <td>0.0</td>\n",
       "      <td>0</td>\n",
       "    </tr>\n",
       "    <tr>\n",
       "      <th>587075</th>\n",
       "      <td>12</td>\n",
       "      <td>41</td>\n",
       "      <td>20</td>\n",
       "      <td>5.30</td>\n",
       "      <td>0.0</td>\n",
       "      <td>1.0</td>\n",
       "      <td>0</td>\n",
       "    </tr>\n",
       "  </tbody>\n",
       "</table>\n",
       "<p>587076 rows × 7 columns</p>\n",
       "</div>"
      ],
      "text/plain": [
       "        hour  minute  second  fridge_temperature  temp_condition_high  \\\n",
       "0         12      36      52               13.10                  1.0   \n",
       "1         12      36      53                8.65                  1.0   \n",
       "2         12      36      54                2.00                  0.0   \n",
       "3         12      36      55                4.80                  0.0   \n",
       "4         12      36      56               10.70                  1.0   \n",
       "...      ...     ...     ...                 ...                  ...   \n",
       "587071    12      41      17                4.00                  0.0   \n",
       "587072    12      41      17                6.05                  1.0   \n",
       "587073    12      41      17               12.80                  1.0   \n",
       "587074    12      41      18                6.50                  1.0   \n",
       "587075    12      41      20                5.30                  0.0   \n",
       "\n",
       "        temp_condition_low  label  \n",
       "0                      0.0      0  \n",
       "1                      0.0      0  \n",
       "2                      1.0      0  \n",
       "3                      1.0      0  \n",
       "4                      0.0      0  \n",
       "...                    ...    ...  \n",
       "587071                 1.0      0  \n",
       "587072                 0.0      0  \n",
       "587073                 0.0      0  \n",
       "587074                 0.0      0  \n",
       "587075                 1.0      0  \n",
       "\n",
       "[587076 rows x 7 columns]"
      ]
     },
     "execution_count": 9,
     "metadata": {},
     "output_type": "execute_result"
    }
   ],
   "source": [
    "df"
   ]
  },
  {
   "cell_type": "code",
   "execution_count": 10,
   "id": "bcaf7492-bdd2-484f-a1ee-81cb82c37dd6",
   "metadata": {},
   "outputs": [],
   "source": [
    "df.to_csv('./preprocessed_data/GD_TON-iot.csv', index=False)"
   ]
  },
  {
   "cell_type": "code",
   "execution_count": null,
   "id": "02a9d4ab-b501-4ae6-9592-3e6157251f01",
   "metadata": {},
   "outputs": [],
   "source": []
  }
 ],
 "metadata": {
  "kernelspec": {
   "display_name": "Python 3 (ipykernel)",
   "language": "python",
   "name": "python3"
  },
  "language_info": {
   "codemirror_mode": {
    "name": "ipython",
    "version": 3
   },
   "file_extension": ".py",
   "mimetype": "text/x-python",
   "name": "python",
   "nbconvert_exporter": "python",
   "pygments_lexer": "ipython3",
   "version": "3.10.12"
  }
 },
 "nbformat": 4,
 "nbformat_minor": 5
}
