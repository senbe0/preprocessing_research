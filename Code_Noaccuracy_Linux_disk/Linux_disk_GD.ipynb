{
 "cells": [
  {
   "cell_type": "code",
   "execution_count": 1,
   "id": "066e504c-caa1-44eb-a692-06b12df57a16",
   "metadata": {},
   "outputs": [
    {
     "name": "stderr",
     "output_type": "stream",
     "text": [
      "/tmp/ipykernel_7663/741040885.py:4: DtypeWarning: Columns (2,3,4,5) have mixed types. Specify dtype option on import or set low_memory=False.\n",
      "  df = pd.read_csv(\"/home/eiji/project/g/data/TON_iot/Linux_data/linux_disk_1.csv\")\n"
     ]
    }
   ],
   "source": [
    "import pandas as pd\n",
    "\n",
    "# CSVファイルを読み込む\n",
    "df = pd.read_csv(\"/home/eiji/project/g/data/TON_iot/Linux_data/linux_disk_1.csv\")\n"
   ]
  },
  {
   "cell_type": "code",
   "execution_count": 2,
   "id": "cdbbfc88-ec33-4f24-ba26-32d4c45e00b9",
   "metadata": {},
   "outputs": [
    {
     "name": "stdout",
     "output_type": "stream",
     "text": [
      "RDDSK:\n",
      "before_len 1000000\n",
      "before_n 878\n",
      "after_len 941954\n",
      "after_n 391\n"
     ]
    }
   ],
   "source": [
    "column_name = \"RDDSK\"\n",
    "print(f\"{column_name}:\")\n",
    "\n",
    "before_n = df[column_name].nunique()\n",
    "print(f\"before_len {len(df)}\")\n",
    "print(f\"before_n {before_n}\")\n",
    "\n",
    "\n",
    "df[column_name] = pd.to_numeric(df[column_name], errors='coerce')\n",
    "df = df.dropna(subset=[column_name])\n",
    "                  \n",
    "after_n = df[column_name].nunique()\n",
    "\n",
    "print(f\"after_len {len(df)}\")\n",
    "print(f\"after_n {after_n}\")"
   ]
  },
  {
   "cell_type": "code",
   "execution_count": 3,
   "id": "5c28db53-736c-4b16-b331-26128949a960",
   "metadata": {},
   "outputs": [
    {
     "name": "stdout",
     "output_type": "stream",
     "text": [
      "WRDSK:\n",
      "before_len 941954\n",
      "before_n 816\n",
      "after_len 939852\n",
      "after_n 761\n"
     ]
    }
   ],
   "source": [
    "column_name = \"WRDSK\"\n",
    "print(f\"{column_name}:\")\n",
    "\n",
    "before_n = df[column_name].nunique()\n",
    "print(f\"before_len {len(df)}\")\n",
    "print(f\"before_n {before_n}\")\n",
    "\n",
    "\n",
    "df[column_name] = pd.to_numeric(df[column_name], errors='coerce')\n",
    "df = df.dropna(subset=[column_name])\n",
    "                  \n",
    "after_n = df[column_name].nunique()\n",
    "\n",
    "print(f\"after_len {len(df)}\")\n",
    "print(f\"after_n {after_n}\")"
   ]
  },
  {
   "cell_type": "code",
   "execution_count": 4,
   "id": "5ede1292-b5bc-4881-ad92-d04fee65722b",
   "metadata": {},
   "outputs": [
    {
     "name": "stdout",
     "output_type": "stream",
     "text": [
      "WCANCL:\n",
      "before_len 939852\n",
      "before_n 70\n",
      "after_len 939852\n",
      "after_n 56\n"
     ]
    }
   ],
   "source": [
    "column_name = \"WCANCL\"\n",
    "print(f\"{column_name}:\")\n",
    "\n",
    "before_n = df[column_name].nunique()\n",
    "print(f\"before_len {len(df)}\")\n",
    "print(f\"before_n {before_n}\")\n",
    "\n",
    "\n",
    "df[column_name] = pd.to_numeric(df[column_name], errors='coerce')\n",
    "df = df.dropna(subset=[column_name])\n",
    "                  \n",
    "after_n = df[column_name].nunique()\n",
    "\n",
    "print(f\"after_len {len(df)}\")\n",
    "print(f\"after_n {after_n}\")"
   ]
  },
  {
   "cell_type": "code",
   "execution_count": 5,
   "id": "c95df972-e592-4500-a0d5-f9246cdfdc11",
   "metadata": {},
   "outputs": [
    {
     "name": "stdout",
     "output_type": "stream",
     "text": [
      "DSK:\n",
      "before_len 939852\n",
      "before_n 190\n",
      "after_len 939852\n",
      "after_n 101\n"
     ]
    }
   ],
   "source": [
    "column_name = \"DSK\"\n",
    "print(f\"{column_name}:\")\n",
    "\n",
    "before_n = df[column_name].nunique()\n",
    "print(f\"before_len {len(df)}\")\n",
    "print(f\"before_n {before_n}\")\n",
    "\n",
    "\n",
    "df[column_name] = pd.to_numeric(df[column_name], errors='coerce')\n",
    "df = df.dropna(subset=[column_name])\n",
    "                  \n",
    "after_n = df[column_name].nunique()\n",
    "\n",
    "print(f\"after_len {len(df)}\")\n",
    "print(f\"after_n {after_n}\")"
   ]
  },
  {
   "cell_type": "code",
   "execution_count": 6,
   "id": "129c9096-080f-4b1e-abf4-4b85a45c8f25",
   "metadata": {},
   "outputs": [
    {
     "data": {
      "text/html": [
       "<div>\n",
       "<style scoped>\n",
       "    .dataframe tbody tr th:only-of-type {\n",
       "        vertical-align: middle;\n",
       "    }\n",
       "\n",
       "    .dataframe tbody tr th {\n",
       "        vertical-align: top;\n",
       "    }\n",
       "\n",
       "    .dataframe thead th {\n",
       "        text-align: right;\n",
       "    }\n",
       "</style>\n",
       "<table border=\"1\" class=\"dataframe\">\n",
       "  <thead>\n",
       "    <tr style=\"text-align: right;\">\n",
       "      <th></th>\n",
       "      <th>ts</th>\n",
       "      <th>PID</th>\n",
       "      <th>RDDSK</th>\n",
       "      <th>WRDSK</th>\n",
       "      <th>WCANCL</th>\n",
       "      <th>DSK</th>\n",
       "      <th>CMD</th>\n",
       "      <th>label</th>\n",
       "      <th>type</th>\n",
       "    </tr>\n",
       "  </thead>\n",
       "  <tbody>\n",
       "    <tr>\n",
       "      <th>0</th>\n",
       "      <td>1554218915</td>\n",
       "      <td>3197</td>\n",
       "      <td>148.2</td>\n",
       "      <td>37340.0</td>\n",
       "      <td>12328.0</td>\n",
       "      <td>0.22</td>\n",
       "      <td>firefox</td>\n",
       "      <td>0</td>\n",
       "      <td>normal</td>\n",
       "    </tr>\n",
       "    <tr>\n",
       "      <th>1</th>\n",
       "      <td>1554218920</td>\n",
       "      <td>2327</td>\n",
       "      <td>32824.0</td>\n",
       "      <td>688.0</td>\n",
       "      <td>4.0</td>\n",
       "      <td>0.04</td>\n",
       "      <td>init</td>\n",
       "      <td>0</td>\n",
       "      <td>normal</td>\n",
       "    </tr>\n",
       "    <tr>\n",
       "      <th>2</th>\n",
       "      <td>1554218925</td>\n",
       "      <td>2797</td>\n",
       "      <td>23468.0</td>\n",
       "      <td>7416.0</td>\n",
       "      <td>6152.0</td>\n",
       "      <td>0.04</td>\n",
       "      <td>nautilus</td>\n",
       "      <td>0</td>\n",
       "      <td>normal</td>\n",
       "    </tr>\n",
       "    <tr>\n",
       "      <th>3</th>\n",
       "      <td>1554218930</td>\n",
       "      <td>2801</td>\n",
       "      <td>3612.0</td>\n",
       "      <td>14320.0</td>\n",
       "      <td>0.0</td>\n",
       "      <td>0.02</td>\n",
       "      <td>tracer-store</td>\n",
       "      <td>0</td>\n",
       "      <td>normal</td>\n",
       "    </tr>\n",
       "    <tr>\n",
       "      <th>4</th>\n",
       "      <td>1554218935</td>\n",
       "      <td>2993</td>\n",
       "      <td>5184.0</td>\n",
       "      <td>11152.0</td>\n",
       "      <td>0.0</td>\n",
       "      <td>0.02</td>\n",
       "      <td>zeitgeist-fts</td>\n",
       "      <td>0</td>\n",
       "      <td>normal</td>\n",
       "    </tr>\n",
       "    <tr>\n",
       "      <th>...</th>\n",
       "      <td>...</td>\n",
       "      <td>...</td>\n",
       "      <td>...</td>\n",
       "      <td>...</td>\n",
       "      <td>...</td>\n",
       "      <td>...</td>\n",
       "      <td>...</td>\n",
       "      <td>...</td>\n",
       "      <td>...</td>\n",
       "    </tr>\n",
       "    <tr>\n",
       "      <th>999995</th>\n",
       "      <td>1556794008</td>\n",
       "      <td>1279</td>\n",
       "      <td>0.0</td>\n",
       "      <td>0.0</td>\n",
       "      <td>0.0</td>\n",
       "      <td>0.00</td>\n",
       "      <td>mysqld</td>\n",
       "      <td>0</td>\n",
       "      <td>normal</td>\n",
       "    </tr>\n",
       "    <tr>\n",
       "      <th>999996</th>\n",
       "      <td>1556794013</td>\n",
       "      <td>3024</td>\n",
       "      <td>0.0</td>\n",
       "      <td>0.0</td>\n",
       "      <td>0.0</td>\n",
       "      <td>0.00</td>\n",
       "      <td>WebExtensions</td>\n",
       "      <td>0</td>\n",
       "      <td>normal</td>\n",
       "    </tr>\n",
       "    <tr>\n",
       "      <th>999997</th>\n",
       "      <td>1556794018</td>\n",
       "      <td>1414</td>\n",
       "      <td>0.0</td>\n",
       "      <td>0.0</td>\n",
       "      <td>0.0</td>\n",
       "      <td>0.00</td>\n",
       "      <td>vmtoolsd</td>\n",
       "      <td>0</td>\n",
       "      <td>normal</td>\n",
       "    </tr>\n",
       "    <tr>\n",
       "      <th>999998</th>\n",
       "      <td>1556794023</td>\n",
       "      <td>2918</td>\n",
       "      <td>0.0</td>\n",
       "      <td>0.0</td>\n",
       "      <td>0.0</td>\n",
       "      <td>0.00</td>\n",
       "      <td>Web Content</td>\n",
       "      <td>0</td>\n",
       "      <td>normal</td>\n",
       "    </tr>\n",
       "    <tr>\n",
       "      <th>999999</th>\n",
       "      <td>1556794028</td>\n",
       "      <td>3132</td>\n",
       "      <td>0.0</td>\n",
       "      <td>0.0</td>\n",
       "      <td>0.0</td>\n",
       "      <td>0.00</td>\n",
       "      <td>Web Content</td>\n",
       "      <td>0</td>\n",
       "      <td>normal</td>\n",
       "    </tr>\n",
       "  </tbody>\n",
       "</table>\n",
       "<p>939852 rows × 9 columns</p>\n",
       "</div>"
      ],
      "text/plain": [
       "                ts   PID    RDDSK    WRDSK   WCANCL   DSK            CMD  \\\n",
       "0       1554218915  3197    148.2  37340.0  12328.0  0.22        firefox   \n",
       "1       1554218920  2327  32824.0    688.0      4.0  0.04           init   \n",
       "2       1554218925  2797  23468.0   7416.0   6152.0  0.04       nautilus   \n",
       "3       1554218930  2801   3612.0  14320.0      0.0  0.02   tracer-store   \n",
       "4       1554218935  2993   5184.0  11152.0      0.0  0.02  zeitgeist-fts   \n",
       "...            ...   ...      ...      ...      ...   ...            ...   \n",
       "999995  1556794008  1279      0.0      0.0      0.0  0.00         mysqld   \n",
       "999996  1556794013  3024      0.0      0.0      0.0  0.00  WebExtensions   \n",
       "999997  1556794018  1414      0.0      0.0      0.0  0.00       vmtoolsd   \n",
       "999998  1556794023  2918      0.0      0.0      0.0  0.00    Web Content   \n",
       "999999  1556794028  3132      0.0      0.0      0.0  0.00    Web Content   \n",
       "\n",
       "        label    type  \n",
       "0           0  normal  \n",
       "1           0  normal  \n",
       "2           0  normal  \n",
       "3           0  normal  \n",
       "4           0  normal  \n",
       "...       ...     ...  \n",
       "999995      0  normal  \n",
       "999996      0  normal  \n",
       "999997      0  normal  \n",
       "999998      0  normal  \n",
       "999999      0  normal  \n",
       "\n",
       "[939852 rows x 9 columns]"
      ]
     },
     "execution_count": 6,
     "metadata": {},
     "output_type": "execute_result"
    }
   ],
   "source": [
    "df"
   ]
  },
  {
   "cell_type": "code",
   "execution_count": 7,
   "id": "ddaca195-622a-43ab-8a01-a64c911aba0e",
   "metadata": {},
   "outputs": [
    {
     "name": "stdout",
     "output_type": "stream",
     "text": [
      "           ts   PID    RDDSK    WRDSK   WCANCL   DSK  label    type  \\\n",
      "0  1554218915  3197    148.2  37340.0  12328.0  0.22      0  normal   \n",
      "1  1554218920  2327  32824.0    688.0      4.0  0.04      0  normal   \n",
      "2  1554218925  2797  23468.0   7416.0   6152.0  0.04      0  normal   \n",
      "3  1554218930  2801   3612.0  14320.0      0.0  0.02      0  normal   \n",
      "4  1554218935  2993   5184.0  11152.0      0.0  0.02      0  normal   \n",
      "\n",
      "   CMD_(fprintd)  CMD_(sd-pam)  ...  CMD_window-stack-b  CMD_worer/3:2  \\\n",
      "0            0.0           0.0  ...                 0.0            0.0   \n",
      "1            0.0           0.0  ...                 0.0            0.0   \n",
      "2            0.0           0.0  ...                 0.0            0.0   \n",
      "3            0.0           0.0  ...                 0.0            0.0   \n",
      "4            0.0           0.0  ...                 0.0            0.0   \n",
      "\n",
      "   CMD_worer/u256:0  CMD_xargs  CMD_xdg-permission  CMD_xfs_mru_cache  \\\n",
      "0               0.0        0.0                 0.0                0.0   \n",
      "1               0.0        0.0                 0.0                0.0   \n",
      "2               0.0        0.0                 0.0                0.0   \n",
      "3               0.0        0.0                 0.0                0.0   \n",
      "4               0.0        0.0                 0.0                0.0   \n",
      "\n",
      "   CMD_xfsalloc  CMD_zeitgeist-daem  CMD_zeitgeist-data  CMD_zeitgeist-fts  \n",
      "0           0.0                 0.0                 0.0                0.0  \n",
      "1           0.0                 0.0                 0.0                0.0  \n",
      "2           0.0                 0.0                 0.0                0.0  \n",
      "3           0.0                 0.0                 0.0                0.0  \n",
      "4           0.0                 0.0                 0.0                1.0  \n",
      "\n",
      "[5 rows x 618 columns]\n"
     ]
    }
   ],
   "source": [
    "from sklearn.preprocessing import OneHotEncoder\n",
    "\n",
    "# OneHotEncoderのインスタンスを作成\n",
    "encoder = OneHotEncoder(sparse_output=False)\n",
    "\n",
    "# CMD列のエンコーディングを適用\n",
    "CMD_encoded = encoder.fit_transform(df[['CMD']])\n",
    "\n",
    "# エンコードされたデータを DataFrame に変換\n",
    "CMD_encoded_df = pd.DataFrame(CMD_encoded, columns=encoder.get_feature_names_out(['CMD']), index=df.index)\n",
    "\n",
    "# ワンホットエンコードされたCMD列を元のDataFrameに結合\n",
    "df = pd.concat([df.drop(columns=['CMD']), CMD_encoded_df], axis=1)\n",
    "\n",
    "# 結果を確認\n",
    "print(df.head())"
   ]
  },
  {
   "cell_type": "code",
   "execution_count": 8,
   "id": "dc2e0a78-7d87-4be8-82c5-8942bd167590",
   "metadata": {},
   "outputs": [],
   "source": [
    "third_index = len(df) // 10"
   ]
  },
  {
   "cell_type": "code",
   "execution_count": 9,
   "id": "213b6940-26fc-4f06-8b03-ca667a44c4ff",
   "metadata": {},
   "outputs": [],
   "source": [
    "df  = df.drop(columns=[\"ts\", \"type\"])"
   ]
  },
  {
   "cell_type": "code",
   "execution_count": 10,
   "id": "069adccd-1dd3-42c1-bb11-bb87b8a3262b",
   "metadata": {},
   "outputs": [],
   "source": [
    "df.iloc[:third_index].to_csv('../preprocessed_data/Linux_disk_GD.csv', index=False)"
   ]
  },
  {
   "cell_type": "code",
   "execution_count": null,
   "id": "c5179b30-238e-45bf-8e86-1787590123f8",
   "metadata": {},
   "outputs": [],
   "source": []
  }
 ],
 "metadata": {
  "kernelspec": {
   "display_name": "tf",
   "language": "python",
   "name": "tf"
  },
  "language_info": {
   "codemirror_mode": {
    "name": "ipython",
    "version": 3
   },
   "file_extension": ".py",
   "mimetype": "text/x-python",
   "name": "python",
   "nbconvert_exporter": "python",
   "pygments_lexer": "ipython3",
   "version": "3.9.18"
  }
 },
 "nbformat": 4,
 "nbformat_minor": 5
}
