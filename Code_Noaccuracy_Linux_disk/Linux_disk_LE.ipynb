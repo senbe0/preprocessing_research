{
 "cells": [
  {
   "cell_type": "code",
   "execution_count": 1,
   "id": "2e87712b-2a38-44ef-8d19-e91a8db3b094",
   "metadata": {},
   "outputs": [
    {
     "name": "stderr",
     "output_type": "stream",
     "text": [
      "/tmp/ipykernel_5856/3479059527.py:4: DtypeWarning: Columns (2,3,4,5) have mixed types. Specify dtype option on import or set low_memory=False.\n",
      "  df = pd.read_csv(\"/home/eiji/project/g/data/TON_iot/Linux_data/linux_disk_1.csv\")\n"
     ]
    }
   ],
   "source": [
    "import pandas as pd\n",
    "\n",
    "\n",
    "df = pd.read_csv(\"/home/eiji/project/g/data/TON_iot/Linux_data/linux_disk_1.csv\")"
   ]
  },
  {
   "cell_type": "code",
   "execution_count": 2,
   "id": "faa11ede-3bf0-4c91-ad44-144a7fb063d3",
   "metadata": {},
   "outputs": [
    {
     "data": {
      "text/plain": [
       "ts         int64\n",
       "PID        int64\n",
       "RDDSK     object\n",
       "WRDSK     object\n",
       "WCANCL    object\n",
       "DSK       object\n",
       "CMD       object\n",
       "label      int64\n",
       "type      object\n",
       "dtype: object"
      ]
     },
     "execution_count": 2,
     "metadata": {},
     "output_type": "execute_result"
    }
   ],
   "source": [
    "df.dtypes"
   ]
  },
  {
   "cell_type": "code",
   "execution_count": 3,
   "id": "a1120e34-dcc4-4c9c-89b3-63a792630b22",
   "metadata": {},
   "outputs": [
    {
     "name": "stdout",
     "output_type": "stream",
     "text": [
      "RDDSK:\n",
      "before_len 1000000\n",
      "before_n 878\n",
      "after_len 941954\n",
      "after_n 391\n"
     ]
    }
   ],
   "source": [
    "column_name = \"RDDSK\"\n",
    "print(f\"{column_name}:\")\n",
    "\n",
    "before_n = df[column_name].nunique()\n",
    "print(f\"before_len {len(df)}\")\n",
    "print(f\"before_n {before_n}\")\n",
    "\n",
    "\n",
    "df[column_name] = pd.to_numeric(df[column_name], errors='coerce')\n",
    "df = df.dropna(subset=[column_name])\n",
    "                  \n",
    "after_n = df[column_name].nunique()\n",
    "\n",
    "print(f\"after_len {len(df)}\")\n",
    "print(f\"after_n {after_n}\")"
   ]
  },
  {
   "cell_type": "code",
   "execution_count": 4,
   "id": "1c39fae8-82e2-4119-92db-8bd80c7b7182",
   "metadata": {},
   "outputs": [
    {
     "name": "stdout",
     "output_type": "stream",
     "text": [
      "WRDSK:\n",
      "before_len 941954\n",
      "before_n 816\n",
      "after_len 939852\n",
      "after_n 761\n"
     ]
    }
   ],
   "source": [
    "column_name = \"WRDSK\"\n",
    "print(f\"{column_name}:\")\n",
    "\n",
    "before_n = df[column_name].nunique()\n",
    "print(f\"before_len {len(df)}\")\n",
    "print(f\"before_n {before_n}\")\n",
    "\n",
    "\n",
    "df[column_name] = pd.to_numeric(df[column_name], errors='coerce')\n",
    "df = df.dropna(subset=[column_name])\n",
    "                  \n",
    "after_n = df[column_name].nunique()\n",
    "\n",
    "print(f\"after_len {len(df)}\")\n",
    "print(f\"after_n {after_n}\")"
   ]
  },
  {
   "cell_type": "code",
   "execution_count": 5,
   "id": "fa032407-3637-424a-9d45-cdd2960d5995",
   "metadata": {},
   "outputs": [
    {
     "name": "stdout",
     "output_type": "stream",
     "text": [
      "WCANCL:\n",
      "before_len 939852\n",
      "before_n 70\n",
      "after_len 939852\n",
      "after_n 56\n"
     ]
    }
   ],
   "source": [
    "column_name = \"WCANCL\"\n",
    "print(f\"{column_name}:\")\n",
    "\n",
    "before_n = df[column_name].nunique()\n",
    "print(f\"before_len {len(df)}\")\n",
    "print(f\"before_n {before_n}\")\n",
    "\n",
    "\n",
    "df[column_name] = pd.to_numeric(df[column_name], errors='coerce')\n",
    "df = df.dropna(subset=[column_name])\n",
    "                  \n",
    "after_n = df[column_name].nunique()\n",
    "\n",
    "print(f\"after_len {len(df)}\")\n",
    "print(f\"after_n {after_n}\")"
   ]
  },
  {
   "cell_type": "code",
   "execution_count": 6,
   "id": "40235f09-82b2-4299-8431-cfec679258d0",
   "metadata": {},
   "outputs": [
    {
     "name": "stdout",
     "output_type": "stream",
     "text": [
      "DSK:\n",
      "before_len 939852\n",
      "before_n 190\n",
      "after_len 939852\n",
      "after_n 101\n"
     ]
    }
   ],
   "source": [
    "column_name = \"DSK\"\n",
    "print(f\"{column_name}:\")\n",
    "\n",
    "before_n = df[column_name].nunique()\n",
    "print(f\"before_len {len(df)}\")\n",
    "print(f\"before_n {before_n}\")\n",
    "\n",
    "\n",
    "df[column_name] = pd.to_numeric(df[column_name], errors='coerce')\n",
    "df = df.dropna(subset=[column_name])\n",
    "                  \n",
    "after_n = df[column_name].nunique()\n",
    "\n",
    "print(f\"after_len {len(df)}\")\n",
    "print(f\"after_n {after_n}\")"
   ]
  },
  {
   "cell_type": "code",
   "execution_count": 7,
   "id": "b0f11dd3-c5fd-4ef6-8d28-7e1a57e73ef5",
   "metadata": {},
   "outputs": [
    {
     "data": {
      "text/plain": [
       "ts          int64\n",
       "PID         int64\n",
       "RDDSK     float64\n",
       "WRDSK     float64\n",
       "WCANCL    float64\n",
       "DSK       float64\n",
       "CMD        object\n",
       "label       int64\n",
       "type       object\n",
       "dtype: object"
      ]
     },
     "execution_count": 7,
     "metadata": {},
     "output_type": "execute_result"
    }
   ],
   "source": [
    "df.dtypes"
   ]
  },
  {
   "cell_type": "code",
   "execution_count": 8,
   "id": "1e0ce24f-810f-414e-a10d-a5280b54d253",
   "metadata": {},
   "outputs": [
    {
     "data": {
      "text/html": [
       "<div>\n",
       "<style scoped>\n",
       "    .dataframe tbody tr th:only-of-type {\n",
       "        vertical-align: middle;\n",
       "    }\n",
       "\n",
       "    .dataframe tbody tr th {\n",
       "        vertical-align: top;\n",
       "    }\n",
       "\n",
       "    .dataframe thead th {\n",
       "        text-align: right;\n",
       "    }\n",
       "</style>\n",
       "<table border=\"1\" class=\"dataframe\">\n",
       "  <thead>\n",
       "    <tr style=\"text-align: right;\">\n",
       "      <th></th>\n",
       "      <th>ts</th>\n",
       "      <th>PID</th>\n",
       "      <th>RDDSK</th>\n",
       "      <th>WRDSK</th>\n",
       "      <th>WCANCL</th>\n",
       "      <th>DSK</th>\n",
       "      <th>CMD</th>\n",
       "      <th>label</th>\n",
       "      <th>type</th>\n",
       "      <th>CMD_encoded</th>\n",
       "    </tr>\n",
       "  </thead>\n",
       "  <tbody>\n",
       "    <tr>\n",
       "      <th>0</th>\n",
       "      <td>1554218915</td>\n",
       "      <td>3197</td>\n",
       "      <td>148.2</td>\n",
       "      <td>37340.0</td>\n",
       "      <td>12328.0</td>\n",
       "      <td>0.22</td>\n",
       "      <td>firefox</td>\n",
       "      <td>0</td>\n",
       "      <td>normal</td>\n",
       "      <td>285</td>\n",
       "    </tr>\n",
       "    <tr>\n",
       "      <th>1</th>\n",
       "      <td>1554218920</td>\n",
       "      <td>2327</td>\n",
       "      <td>32824.0</td>\n",
       "      <td>688.0</td>\n",
       "      <td>4.0</td>\n",
       "      <td>0.04</td>\n",
       "      <td>init</td>\n",
       "      <td>0</td>\n",
       "      <td>normal</td>\n",
       "      <td>364</td>\n",
       "    </tr>\n",
       "    <tr>\n",
       "      <th>2</th>\n",
       "      <td>1554218925</td>\n",
       "      <td>2797</td>\n",
       "      <td>23468.0</td>\n",
       "      <td>7416.0</td>\n",
       "      <td>6152.0</td>\n",
       "      <td>0.04</td>\n",
       "      <td>nautilus</td>\n",
       "      <td>0</td>\n",
       "      <td>normal</td>\n",
       "      <td>526</td>\n",
       "    </tr>\n",
       "    <tr>\n",
       "      <th>3</th>\n",
       "      <td>1554218930</td>\n",
       "      <td>2801</td>\n",
       "      <td>3612.0</td>\n",
       "      <td>14320.0</td>\n",
       "      <td>0.0</td>\n",
       "      <td>0.02</td>\n",
       "      <td>tracer-store</td>\n",
       "      <td>0</td>\n",
       "      <td>normal</td>\n",
       "      <td>576</td>\n",
       "    </tr>\n",
       "    <tr>\n",
       "      <th>4</th>\n",
       "      <td>1554218935</td>\n",
       "      <td>2993</td>\n",
       "      <td>5184.0</td>\n",
       "      <td>11152.0</td>\n",
       "      <td>0.0</td>\n",
       "      <td>0.02</td>\n",
       "      <td>zeitgeist-fts</td>\n",
       "      <td>0</td>\n",
       "      <td>normal</td>\n",
       "      <td>609</td>\n",
       "    </tr>\n",
       "  </tbody>\n",
       "</table>\n",
       "</div>"
      ],
      "text/plain": [
       "           ts   PID    RDDSK    WRDSK   WCANCL   DSK            CMD  label  \\\n",
       "0  1554218915  3197    148.2  37340.0  12328.0  0.22        firefox      0   \n",
       "1  1554218920  2327  32824.0    688.0      4.0  0.04           init      0   \n",
       "2  1554218925  2797  23468.0   7416.0   6152.0  0.04       nautilus      0   \n",
       "3  1554218930  2801   3612.0  14320.0      0.0  0.02   tracer-store      0   \n",
       "4  1554218935  2993   5184.0  11152.0      0.0  0.02  zeitgeist-fts      0   \n",
       "\n",
       "     type  CMD_encoded  \n",
       "0  normal          285  \n",
       "1  normal          364  \n",
       "2  normal          526  \n",
       "3  normal          576  \n",
       "4  normal          609  "
      ]
     },
     "execution_count": 8,
     "metadata": {},
     "output_type": "execute_result"
    }
   ],
   "source": [
    "from sklearn.preprocessing import LabelEncoder\n",
    "\n",
    "encoder = LabelEncoder()\n",
    "df[\"CMD_encoded\"] = encoder.fit_transform(df[\"CMD\"])\n",
    "\n",
    "\n",
    "df.head()\n",
    "# df_combined = pd.concat([df, encoded_df], axis=1)"
   ]
  },
  {
   "cell_type": "code",
   "execution_count": 10,
   "id": "070ff0bf-834d-487f-b9a7-c29d708789a5",
   "metadata": {},
   "outputs": [],
   "source": [
    "new_order = ['PID', 'RDDSK', 'WRDSK', 'WCANCL', 'DSK', 'CMD_encoded', 'label']"
   ]
  },
  {
   "cell_type": "code",
   "execution_count": 12,
   "id": "36c5e59b-90a6-41bf-8b89-bb9f2e3579f0",
   "metadata": {},
   "outputs": [],
   "source": [
    "df = df[new_order]"
   ]
  },
  {
   "cell_type": "code",
   "execution_count": 13,
   "id": "a382df9b-8f6b-4168-a686-28bdd8dd1dc5",
   "metadata": {},
   "outputs": [
    {
     "data": {
      "text/plain": [
       "PID              int64\n",
       "RDDSK          float64\n",
       "WRDSK          float64\n",
       "WCANCL         float64\n",
       "DSK            float64\n",
       "CMD_encoded      int64\n",
       "label            int64\n",
       "dtype: object"
      ]
     },
     "execution_count": 13,
     "metadata": {},
     "output_type": "execute_result"
    }
   ],
   "source": [
    "df.dtypes"
   ]
  },
  {
   "cell_type": "code",
   "execution_count": 14,
   "id": "069adccd-1dd3-42c1-bb11-bb87b8a3262b",
   "metadata": {},
   "outputs": [
    {
     "data": {
      "text/html": [
       "<div>\n",
       "<style scoped>\n",
       "    .dataframe tbody tr th:only-of-type {\n",
       "        vertical-align: middle;\n",
       "    }\n",
       "\n",
       "    .dataframe tbody tr th {\n",
       "        vertical-align: top;\n",
       "    }\n",
       "\n",
       "    .dataframe thead th {\n",
       "        text-align: right;\n",
       "    }\n",
       "</style>\n",
       "<table border=\"1\" class=\"dataframe\">\n",
       "  <thead>\n",
       "    <tr style=\"text-align: right;\">\n",
       "      <th></th>\n",
       "      <th>PID</th>\n",
       "      <th>RDDSK</th>\n",
       "      <th>WRDSK</th>\n",
       "      <th>WCANCL</th>\n",
       "      <th>DSK</th>\n",
       "      <th>CMD_encoded</th>\n",
       "      <th>label</th>\n",
       "    </tr>\n",
       "  </thead>\n",
       "  <tbody>\n",
       "    <tr>\n",
       "      <th>0</th>\n",
       "      <td>3197</td>\n",
       "      <td>148.2</td>\n",
       "      <td>37340.0</td>\n",
       "      <td>12328.0</td>\n",
       "      <td>0.22</td>\n",
       "      <td>285</td>\n",
       "      <td>0</td>\n",
       "    </tr>\n",
       "    <tr>\n",
       "      <th>1</th>\n",
       "      <td>2327</td>\n",
       "      <td>32824.0</td>\n",
       "      <td>688.0</td>\n",
       "      <td>4.0</td>\n",
       "      <td>0.04</td>\n",
       "      <td>364</td>\n",
       "      <td>0</td>\n",
       "    </tr>\n",
       "    <tr>\n",
       "      <th>2</th>\n",
       "      <td>2797</td>\n",
       "      <td>23468.0</td>\n",
       "      <td>7416.0</td>\n",
       "      <td>6152.0</td>\n",
       "      <td>0.04</td>\n",
       "      <td>526</td>\n",
       "      <td>0</td>\n",
       "    </tr>\n",
       "    <tr>\n",
       "      <th>3</th>\n",
       "      <td>2801</td>\n",
       "      <td>3612.0</td>\n",
       "      <td>14320.0</td>\n",
       "      <td>0.0</td>\n",
       "      <td>0.02</td>\n",
       "      <td>576</td>\n",
       "      <td>0</td>\n",
       "    </tr>\n",
       "    <tr>\n",
       "      <th>4</th>\n",
       "      <td>2993</td>\n",
       "      <td>5184.0</td>\n",
       "      <td>11152.0</td>\n",
       "      <td>0.0</td>\n",
       "      <td>0.02</td>\n",
       "      <td>609</td>\n",
       "      <td>0</td>\n",
       "    </tr>\n",
       "    <tr>\n",
       "      <th>...</th>\n",
       "      <td>...</td>\n",
       "      <td>...</td>\n",
       "      <td>...</td>\n",
       "      <td>...</td>\n",
       "      <td>...</td>\n",
       "      <td>...</td>\n",
       "      <td>...</td>\n",
       "    </tr>\n",
       "    <tr>\n",
       "      <th>999995</th>\n",
       "      <td>1279</td>\n",
       "      <td>0.0</td>\n",
       "      <td>0.0</td>\n",
       "      <td>0.0</td>\n",
       "      <td>0.00</td>\n",
       "      <td>524</td>\n",
       "      <td>0</td>\n",
       "    </tr>\n",
       "    <tr>\n",
       "      <th>999996</th>\n",
       "      <td>3024</td>\n",
       "      <td>0.0</td>\n",
       "      <td>0.0</td>\n",
       "      <td>0.0</td>\n",
       "      <td>0.00</td>\n",
       "      <td>237</td>\n",
       "      <td>0</td>\n",
       "    </tr>\n",
       "    <tr>\n",
       "      <th>999997</th>\n",
       "      <td>1414</td>\n",
       "      <td>0.0</td>\n",
       "      <td>0.0</td>\n",
       "      <td>0.0</td>\n",
       "      <td>0.00</td>\n",
       "      <td>596</td>\n",
       "      <td>0</td>\n",
       "    </tr>\n",
       "    <tr>\n",
       "      <th>999998</th>\n",
       "      <td>2918</td>\n",
       "      <td>0.0</td>\n",
       "      <td>0.0</td>\n",
       "      <td>0.0</td>\n",
       "      <td>0.00</td>\n",
       "      <td>233</td>\n",
       "      <td>0</td>\n",
       "    </tr>\n",
       "    <tr>\n",
       "      <th>999999</th>\n",
       "      <td>3132</td>\n",
       "      <td>0.0</td>\n",
       "      <td>0.0</td>\n",
       "      <td>0.0</td>\n",
       "      <td>0.00</td>\n",
       "      <td>233</td>\n",
       "      <td>0</td>\n",
       "    </tr>\n",
       "  </tbody>\n",
       "</table>\n",
       "<p>939852 rows × 7 columns</p>\n",
       "</div>"
      ],
      "text/plain": [
       "         PID    RDDSK    WRDSK   WCANCL   DSK  CMD_encoded  label\n",
       "0       3197    148.2  37340.0  12328.0  0.22          285      0\n",
       "1       2327  32824.0    688.0      4.0  0.04          364      0\n",
       "2       2797  23468.0   7416.0   6152.0  0.04          526      0\n",
       "3       2801   3612.0  14320.0      0.0  0.02          576      0\n",
       "4       2993   5184.0  11152.0      0.0  0.02          609      0\n",
       "...      ...      ...      ...      ...   ...          ...    ...\n",
       "999995  1279      0.0      0.0      0.0  0.00          524      0\n",
       "999996  3024      0.0      0.0      0.0  0.00          237      0\n",
       "999997  1414      0.0      0.0      0.0  0.00          596      0\n",
       "999998  2918      0.0      0.0      0.0  0.00          233      0\n",
       "999999  3132      0.0      0.0      0.0  0.00          233      0\n",
       "\n",
       "[939852 rows x 7 columns]"
      ]
     },
     "execution_count": 14,
     "metadata": {},
     "output_type": "execute_result"
    }
   ],
   "source": [
    "df"
   ]
  },
  {
   "cell_type": "code",
   "execution_count": 15,
   "id": "bcaf7492-bdd2-484f-a1ee-81cb82c37dd6",
   "metadata": {},
   "outputs": [],
   "source": [
    "df.to_csv('../preprocessed_data/Linux_disk_LE.csv', index=False)"
   ]
  },
  {
   "cell_type": "code",
   "execution_count": null,
   "id": "02a9d4ab-b501-4ae6-9592-3e6157251f01",
   "metadata": {},
   "outputs": [],
   "source": []
  }
 ],
 "metadata": {
  "kernelspec": {
   "display_name": "tf",
   "language": "python",
   "name": "tf"
  },
  "language_info": {
   "codemirror_mode": {
    "name": "ipython",
    "version": 3
   },
   "file_extension": ".py",
   "mimetype": "text/x-python",
   "name": "python",
   "nbconvert_exporter": "python",
   "pygments_lexer": "ipython3",
   "version": "3.9.18"
  }
 },
 "nbformat": 4,
 "nbformat_minor": 5
}
