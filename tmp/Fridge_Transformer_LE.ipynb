{
 "cells": [
  {
   "cell_type": "code",
   "execution_count": 1,
   "id": "7911a6a2-6391-4ce1-9b35-f69ca7d71f94",
   "metadata": {},
   "outputs": [
    {
     "name": "stderr",
     "output_type": "stream",
     "text": [
      "2024-08-27 21:30:14.573552: I tensorflow/core/util/port.cc:113] oneDNN custom operations are on. You may see slightly different numerical results due to floating-point round-off errors from different computation orders. To turn them off, set the environment variable `TF_ENABLE_ONEDNN_OPTS=0`.\n",
      "2024-08-27 21:30:14.602737: I tensorflow/core/platform/cpu_feature_guard.cc:210] This TensorFlow binary is optimized to use available CPU instructions in performance-critical operations.\n",
      "To enable the following instructions: AVX2 AVX_VNNI FMA, in other operations, rebuild TensorFlow with the appropriate compiler flags.\n",
      "2024-08-27 21:30:15.047490: W tensorflow/compiler/tf2tensorrt/utils/py_utils.cc:38] TF-TRT Warning: Could not find TensorRT\n"
     ]
    }
   ],
   "source": [
    "import numpy as np\n",
    "import pandas as pd\n",
    "import tensorflow as tf\n",
    "from tensorflow.keras.models import Model\n",
    "from tensorflow.keras.layers import Dense, Dropout, LayerNormalization, MultiHeadAttention, Flatten\n",
    "from sklearn.model_selection import train_test_split\n",
    "import matplotlib.pyplot as plt\n",
    "import seaborn as sns\n",
    "from sklearn.metrics import confusion_matrix, classification_report\n",
    "\n",
    "class TransformerBlock(tf.keras.layers.Layer):\n",
    "    def __init__(self, embed_dim, num_heads, ff_dim, rate=0.1):\n",
    "        super(TransformerBlock, self).__init__()\n",
    "        self.att = MultiHeadAttention(num_heads=num_heads, key_dim=embed_dim)\n",
    "        self.ffn = tf.keras.Sequential([\n",
    "            Dense(ff_dim, activation=\"relu\"), \n",
    "            Dense(embed_dim)\n",
    "        ])\n",
    "        self.layernorm1 = LayerNormalization(epsilon=1e-6)\n",
    "        self.layernorm2 = LayerNormalization(epsilon=1e-6)\n",
    "        self.dropout1 = Dropout(rate)\n",
    "        self.dropout2 = Dropout(rate)\n",
    "\n",
    "    def call(self, inputs, training=None):\n",
    "        attn_output = self.att(inputs, inputs)\n",
    "        attn_output = self.dropout1(attn_output, training=training)\n",
    "        out1 = self.layernorm1(inputs + attn_output)\n",
    "        ffn_output = self.ffn(out1)\n",
    "        ffn_output = self.dropout2(ffn_output, training=training)\n",
    "        return self.layernorm2(out1 + ffn_output)"
   ]
  },
  {
   "cell_type": "code",
   "execution_count": 2,
   "id": "1ffd2e3b-43e0-4b8f-adb5-45e19cab4b77",
   "metadata": {},
   "outputs": [
    {
     "data": {
      "text/html": [
       "<div>\n",
       "<style scoped>\n",
       "    .dataframe tbody tr th:only-of-type {\n",
       "        vertical-align: middle;\n",
       "    }\n",
       "\n",
       "    .dataframe tbody tr th {\n",
       "        vertical-align: top;\n",
       "    }\n",
       "\n",
       "    .dataframe thead th {\n",
       "        text-align: right;\n",
       "    }\n",
       "</style>\n",
       "<table border=\"1\" class=\"dataframe\">\n",
       "  <thead>\n",
       "    <tr style=\"text-align: right;\">\n",
       "      <th></th>\n",
       "      <th>hour</th>\n",
       "      <th>minute</th>\n",
       "      <th>second</th>\n",
       "      <th>fridge_temperature</th>\n",
       "      <th>temp_condition_encoded</th>\n",
       "      <th>label</th>\n",
       "    </tr>\n",
       "  </thead>\n",
       "  <tbody>\n",
       "    <tr>\n",
       "      <th>0</th>\n",
       "      <td>12</td>\n",
       "      <td>36</td>\n",
       "      <td>52</td>\n",
       "      <td>13.10</td>\n",
       "      <td>1</td>\n",
       "      <td>0</td>\n",
       "    </tr>\n",
       "    <tr>\n",
       "      <th>1</th>\n",
       "      <td>12</td>\n",
       "      <td>36</td>\n",
       "      <td>53</td>\n",
       "      <td>8.65</td>\n",
       "      <td>1</td>\n",
       "      <td>0</td>\n",
       "    </tr>\n",
       "    <tr>\n",
       "      <th>2</th>\n",
       "      <td>12</td>\n",
       "      <td>36</td>\n",
       "      <td>54</td>\n",
       "      <td>2.00</td>\n",
       "      <td>0</td>\n",
       "      <td>0</td>\n",
       "    </tr>\n",
       "    <tr>\n",
       "      <th>3</th>\n",
       "      <td>12</td>\n",
       "      <td>36</td>\n",
       "      <td>55</td>\n",
       "      <td>4.80</td>\n",
       "      <td>0</td>\n",
       "      <td>0</td>\n",
       "    </tr>\n",
       "    <tr>\n",
       "      <th>4</th>\n",
       "      <td>12</td>\n",
       "      <td>36</td>\n",
       "      <td>56</td>\n",
       "      <td>10.70</td>\n",
       "      <td>1</td>\n",
       "      <td>0</td>\n",
       "    </tr>\n",
       "    <tr>\n",
       "      <th>...</th>\n",
       "      <td>...</td>\n",
       "      <td>...</td>\n",
       "      <td>...</td>\n",
       "      <td>...</td>\n",
       "      <td>...</td>\n",
       "      <td>...</td>\n",
       "    </tr>\n",
       "    <tr>\n",
       "      <th>587071</th>\n",
       "      <td>12</td>\n",
       "      <td>41</td>\n",
       "      <td>17</td>\n",
       "      <td>4.00</td>\n",
       "      <td>0</td>\n",
       "      <td>0</td>\n",
       "    </tr>\n",
       "    <tr>\n",
       "      <th>587072</th>\n",
       "      <td>12</td>\n",
       "      <td>41</td>\n",
       "      <td>17</td>\n",
       "      <td>6.05</td>\n",
       "      <td>1</td>\n",
       "      <td>0</td>\n",
       "    </tr>\n",
       "    <tr>\n",
       "      <th>587073</th>\n",
       "      <td>12</td>\n",
       "      <td>41</td>\n",
       "      <td>17</td>\n",
       "      <td>12.80</td>\n",
       "      <td>1</td>\n",
       "      <td>0</td>\n",
       "    </tr>\n",
       "    <tr>\n",
       "      <th>587074</th>\n",
       "      <td>12</td>\n",
       "      <td>41</td>\n",
       "      <td>18</td>\n",
       "      <td>6.50</td>\n",
       "      <td>1</td>\n",
       "      <td>0</td>\n",
       "    </tr>\n",
       "    <tr>\n",
       "      <th>587075</th>\n",
       "      <td>12</td>\n",
       "      <td>41</td>\n",
       "      <td>20</td>\n",
       "      <td>5.30</td>\n",
       "      <td>0</td>\n",
       "      <td>0</td>\n",
       "    </tr>\n",
       "  </tbody>\n",
       "</table>\n",
       "<p>587076 rows × 6 columns</p>\n",
       "</div>"
      ],
      "text/plain": [
       "        hour  minute  second  fridge_temperature  temp_condition_encoded  \\\n",
       "0         12      36      52               13.10                       1   \n",
       "1         12      36      53                8.65                       1   \n",
       "2         12      36      54                2.00                       0   \n",
       "3         12      36      55                4.80                       0   \n",
       "4         12      36      56               10.70                       1   \n",
       "...      ...     ...     ...                 ...                     ...   \n",
       "587071    12      41      17                4.00                       0   \n",
       "587072    12      41      17                6.05                       1   \n",
       "587073    12      41      17               12.80                       1   \n",
       "587074    12      41      18                6.50                       1   \n",
       "587075    12      41      20                5.30                       0   \n",
       "\n",
       "        label  \n",
       "0           0  \n",
       "1           0  \n",
       "2           0  \n",
       "3           0  \n",
       "4           0  \n",
       "...       ...  \n",
       "587071      0  \n",
       "587072      0  \n",
       "587073      0  \n",
       "587074      0  \n",
       "587075      0  \n",
       "\n",
       "[587076 rows x 6 columns]"
      ]
     },
     "execution_count": 2,
     "metadata": {},
     "output_type": "execute_result"
    }
   ],
   "source": [
    "data = pd.read_csv(\"/home/eiji/project/g/preprocessed_data/Fridge_LE.csv\")\n",
    "data"
   ]
  },
  {
   "cell_type": "code",
   "execution_count": 3,
   "id": "dff53a67-9881-487b-a4d4-c58db25eb7f0",
   "metadata": {},
   "outputs": [
    {
     "name": "stderr",
     "output_type": "stream",
     "text": [
      "2024-08-27 21:30:15.821567: I external/local_xla/xla/stream_executor/cuda/cuda_executor.cc:998] successful NUMA node read from SysFS had negative value (-1), but there must be at least one NUMA node, so returning NUMA node zero. See more at https://github.com/torvalds/linux/blob/v6.0/Documentation/ABI/testing/sysfs-bus-pci#L344-L355\n",
      "2024-08-27 21:30:15.844642: I external/local_xla/xla/stream_executor/cuda/cuda_executor.cc:998] successful NUMA node read from SysFS had negative value (-1), but there must be at least one NUMA node, so returning NUMA node zero. See more at https://github.com/torvalds/linux/blob/v6.0/Documentation/ABI/testing/sysfs-bus-pci#L344-L355\n",
      "2024-08-27 21:30:15.844785: I external/local_xla/xla/stream_executor/cuda/cuda_executor.cc:998] successful NUMA node read from SysFS had negative value (-1), but there must be at least one NUMA node, so returning NUMA node zero. See more at https://github.com/torvalds/linux/blob/v6.0/Documentation/ABI/testing/sysfs-bus-pci#L344-L355\n"
     ]
    }
   ],
   "source": [
    "import tensorflow as tf\n",
    "tf.config.set_visible_devices([], 'GPU')"
   ]
  },
  {
   "cell_type": "code",
   "execution_count": 4,
   "id": "e23c5e8a-4118-4c8f-8421-d9fe14a5480c",
   "metadata": {},
   "outputs": [],
   "source": [
    "X = data[['hour', 'minute', 'second', 'fridge_temperature', 'temp_condition_encoded']].values\n",
    "y = data['label'].values"
   ]
  },
  {
   "cell_type": "code",
   "execution_count": 5,
   "id": "d43aaeef-7a94-4e8d-9e70-00ca2499ee7e",
   "metadata": {},
   "outputs": [],
   "source": [
    "# トレーニングデータとテストデータに分割\n",
    "X_train, X_temp, y_train, y_temp = train_test_split(X, y, test_size=0.3, random_state=42, stratify=y)\n",
    "# テストデータをさらに検証データとテストデータに分割\n",
    "X_val, X_test, y_val, y_test = train_test_split(X_temp, y_temp, test_size=0.5, random_state=42, stratify=y_temp)"
   ]
  },
  {
   "cell_type": "code",
   "execution_count": 6,
   "id": "9d569401-dc96-49f3-9f56-aadd6d431373",
   "metadata": {},
   "outputs": [],
   "source": [
    "def create_sequences(data, window_size):\n",
    "    sequences = []\n",
    "    for i in range(len(data) - window_size + 1):\n",
    "        sequences.append(data[i:i + window_size])\n",
    "    return np.array(sequences)\n",
    "\n",
    "window_size = 30\n",
    "\n",
    "X_train_seq = create_sequences(X_train, window_size)\n",
    "X_val_seq = create_sequences(X_val, window_size)\n",
    "X_test_seq = create_sequences(X_test, window_size)\n",
    "\n",
    "# ターゲット（y）も対応する最後のウィンドウ位置に合わせる\n",
    "y_train_seq = y_train[window_size - 1:]\n",
    "y_val_seq = y_val[window_size - 1:]\n",
    "y_test_seq = y_test[window_size - 1:]\n"
   ]
  },
  {
   "cell_type": "code",
   "execution_count": 7,
   "id": "ed28ff8e-6f6a-4ed1-94d9-98c4786112bd",
   "metadata": {},
   "outputs": [
    {
     "data": {
      "text/html": [
       "<pre style=\"white-space:pre;overflow-x:auto;line-height:normal;font-family:Menlo,'DejaVu Sans Mono',consolas,'Courier New',monospace\"><span style=\"font-weight: bold\">Model: \"functional_2\"</span>\n",
       "</pre>\n"
      ],
      "text/plain": [
       "\u001b[1mModel: \"functional_2\"\u001b[0m\n"
      ]
     },
     "metadata": {},
     "output_type": "display_data"
    },
    {
     "data": {
      "text/html": [
       "<pre style=\"white-space:pre;overflow-x:auto;line-height:normal;font-family:Menlo,'DejaVu Sans Mono',consolas,'Courier New',monospace\">┏━━━━━━━━━━━━━━━━━━━━━━━━━━━━━━━━━┳━━━━━━━━━━━━━━━━━━━━━━━━┳━━━━━━━━━━━━━━━┓\n",
       "┃<span style=\"font-weight: bold\"> Layer (type)                    </span>┃<span style=\"font-weight: bold\"> Output Shape           </span>┃<span style=\"font-weight: bold\">       Param # </span>┃\n",
       "┡━━━━━━━━━━━━━━━━━━━━━━━━━━━━━━━━━╇━━━━━━━━━━━━━━━━━━━━━━━━╇━━━━━━━━━━━━━━━┩\n",
       "│ input_layer (<span style=\"color: #0087ff; text-decoration-color: #0087ff\">InputLayer</span>)        │ (<span style=\"color: #00d7ff; text-decoration-color: #00d7ff\">None</span>, <span style=\"color: #00af00; text-decoration-color: #00af00\">30</span>, <span style=\"color: #00af00; text-decoration-color: #00af00\">5</span>)          │             <span style=\"color: #00af00; text-decoration-color: #00af00\">0</span> │\n",
       "├─────────────────────────────────┼────────────────────────┼───────────────┤\n",
       "│ transformer_block               │ (<span style=\"color: #00d7ff; text-decoration-color: #00d7ff\">None</span>, <span style=\"color: #00af00; text-decoration-color: #00af00\">30</span>, <span style=\"color: #00af00; text-decoration-color: #00af00\">5</span>)          │         <span style=\"color: #00af00; text-decoration-color: #00af00\">3,766</span> │\n",
       "│ (<span style=\"color: #0087ff; text-decoration-color: #0087ff\">TransformerBlock</span>)              │                        │               │\n",
       "├─────────────────────────────────┼────────────────────────┼───────────────┤\n",
       "│ flatten (<span style=\"color: #0087ff; text-decoration-color: #0087ff\">Flatten</span>)               │ (<span style=\"color: #00d7ff; text-decoration-color: #00d7ff\">None</span>, <span style=\"color: #00af00; text-decoration-color: #00af00\">150</span>)            │             <span style=\"color: #00af00; text-decoration-color: #00af00\">0</span> │\n",
       "├─────────────────────────────────┼────────────────────────┼───────────────┤\n",
       "│ dense_2 (<span style=\"color: #0087ff; text-decoration-color: #0087ff\">Dense</span>)                 │ (<span style=\"color: #00d7ff; text-decoration-color: #00d7ff\">None</span>, <span style=\"color: #00af00; text-decoration-color: #00af00\">1</span>)              │           <span style=\"color: #00af00; text-decoration-color: #00af00\">151</span> │\n",
       "└─────────────────────────────────┴────────────────────────┴───────────────┘\n",
       "</pre>\n"
      ],
      "text/plain": [
       "┏━━━━━━━━━━━━━━━━━━━━━━━━━━━━━━━━━┳━━━━━━━━━━━━━━━━━━━━━━━━┳━━━━━━━━━━━━━━━┓\n",
       "┃\u001b[1m \u001b[0m\u001b[1mLayer (type)                   \u001b[0m\u001b[1m \u001b[0m┃\u001b[1m \u001b[0m\u001b[1mOutput Shape          \u001b[0m\u001b[1m \u001b[0m┃\u001b[1m \u001b[0m\u001b[1m      Param #\u001b[0m\u001b[1m \u001b[0m┃\n",
       "┡━━━━━━━━━━━━━━━━━━━━━━━━━━━━━━━━━╇━━━━━━━━━━━━━━━━━━━━━━━━╇━━━━━━━━━━━━━━━┩\n",
       "│ input_layer (\u001b[38;5;33mInputLayer\u001b[0m)        │ (\u001b[38;5;45mNone\u001b[0m, \u001b[38;5;34m30\u001b[0m, \u001b[38;5;34m5\u001b[0m)          │             \u001b[38;5;34m0\u001b[0m │\n",
       "├─────────────────────────────────┼────────────────────────┼───────────────┤\n",
       "│ transformer_block               │ (\u001b[38;5;45mNone\u001b[0m, \u001b[38;5;34m30\u001b[0m, \u001b[38;5;34m5\u001b[0m)          │         \u001b[38;5;34m3,766\u001b[0m │\n",
       "│ (\u001b[38;5;33mTransformerBlock\u001b[0m)              │                        │               │\n",
       "├─────────────────────────────────┼────────────────────────┼───────────────┤\n",
       "│ flatten (\u001b[38;5;33mFlatten\u001b[0m)               │ (\u001b[38;5;45mNone\u001b[0m, \u001b[38;5;34m150\u001b[0m)            │             \u001b[38;5;34m0\u001b[0m │\n",
       "├─────────────────────────────────┼────────────────────────┼───────────────┤\n",
       "│ dense_2 (\u001b[38;5;33mDense\u001b[0m)                 │ (\u001b[38;5;45mNone\u001b[0m, \u001b[38;5;34m1\u001b[0m)              │           \u001b[38;5;34m151\u001b[0m │\n",
       "└─────────────────────────────────┴────────────────────────┴───────────────┘\n"
      ]
     },
     "metadata": {},
     "output_type": "display_data"
    },
    {
     "data": {
      "text/html": [
       "<pre style=\"white-space:pre;overflow-x:auto;line-height:normal;font-family:Menlo,'DejaVu Sans Mono',consolas,'Courier New',monospace\"><span style=\"font-weight: bold\"> Total params: </span><span style=\"color: #00af00; text-decoration-color: #00af00\">3,917</span> (15.30 KB)\n",
       "</pre>\n"
      ],
      "text/plain": [
       "\u001b[1m Total params: \u001b[0m\u001b[38;5;34m3,917\u001b[0m (15.30 KB)\n"
      ]
     },
     "metadata": {},
     "output_type": "display_data"
    },
    {
     "data": {
      "text/html": [
       "<pre style=\"white-space:pre;overflow-x:auto;line-height:normal;font-family:Menlo,'DejaVu Sans Mono',consolas,'Courier New',monospace\"><span style=\"font-weight: bold\"> Trainable params: </span><span style=\"color: #00af00; text-decoration-color: #00af00\">3,917</span> (15.30 KB)\n",
       "</pre>\n"
      ],
      "text/plain": [
       "\u001b[1m Trainable params: \u001b[0m\u001b[38;5;34m3,917\u001b[0m (15.30 KB)\n"
      ]
     },
     "metadata": {},
     "output_type": "display_data"
    },
    {
     "data": {
      "text/html": [
       "<pre style=\"white-space:pre;overflow-x:auto;line-height:normal;font-family:Menlo,'DejaVu Sans Mono',consolas,'Courier New',monospace\"><span style=\"font-weight: bold\"> Non-trainable params: </span><span style=\"color: #00af00; text-decoration-color: #00af00\">0</span> (0.00 B)\n",
       "</pre>\n"
      ],
      "text/plain": [
       "\u001b[1m Non-trainable params: \u001b[0m\u001b[38;5;34m0\u001b[0m (0.00 B)\n"
      ]
     },
     "metadata": {},
     "output_type": "display_data"
    }
   ],
   "source": [
    "# Transformerモデルの構築\n",
    "embed_dim = X_train.shape[1]  # Input feature size\n",
    "num_heads = 8\n",
    "ff_dim = 256  # Hidden layer size in feed forward network inside transformer\n",
    "\n",
    "# モデルの構築\n",
    "input_layer = tf.keras.layers.Input(shape=(window_size, X_train.shape[1]))\n",
    "transformer_block = TransformerBlock(embed_dim, num_heads, ff_dim)\n",
    "x = transformer_block(input_layer)\n",
    "x = Flatten()(x)  # Flatten the output to match the target shape\n",
    "x = Dense(1, activation='sigmoid')(x)\n",
    "\n",
    "model = Model(inputs=input_layer, outputs=x)\n",
    "model.compile(optimizer='adam', loss='binary_crossentropy', metrics=['accuracy'])\n",
    "model.summary()\n",
    "\n"
   ]
  },
  {
   "cell_type": "code",
   "execution_count": 8,
   "id": "048fafe8-b8e2-4e33-bb3b-8aa721019f9b",
   "metadata": {},
   "outputs": [
    {
     "name": "stdout",
     "output_type": "stream",
     "text": [
      "Epoch 1/10\n"
     ]
    },
    {
     "name": "stderr",
     "output_type": "stream",
     "text": [
      "WARNING: All log messages before absl::InitializeLog() is called are written to STDERR\n",
      "I0000 00:00:1724761829.612393   37220 service.cc:145] XLA service 0x719354012020 initialized for platform Host (this does not guarantee that XLA will be used). Devices:\n",
      "I0000 00:00:1724761829.612412   37220 service.cc:153]   StreamExecutor device (0): Host, Default Version\n",
      "2024-08-27 21:30:29.648368: I tensorflow/compiler/mlir/tensorflow/utils/dump_mlir_util.cc:268] disabling MLIR crash reproducer, set env var `MLIR_CRASH_REPRODUCER_DIRECTORY` to enable.\n"
     ]
    },
    {
     "name": "stdout",
     "output_type": "stream",
     "text": [
      "\u001b[1m  21/6421\u001b[0m \u001b[37m━━━━━━━━━━━━━━━━━━━━\u001b[0m \u001b[1m55s\u001b[0m 9ms/step - accuracy: 0.8426 - loss: 0.4628 "
     ]
    },
    {
     "name": "stderr",
     "output_type": "stream",
     "text": [
      "I0000 00:00:1724761830.328884   37220 device_compiler.h:188] Compiled cluster using XLA!  This line is logged at most once for the lifetime of the process.\n"
     ]
    },
    {
     "name": "stdout",
     "output_type": "stream",
     "text": [
      "\u001b[1m6421/6421\u001b[0m \u001b[32m━━━━━━━━━━━━━━━━━━━━\u001b[0m\u001b[37m\u001b[0m \u001b[1m97s\u001b[0m 15ms/step - accuracy: 0.8531 - loss: 0.4023 - val_accuracy: 0.8531 - val_loss: 0.3619\n",
      "Epoch 2/10\n",
      "\u001b[1m6421/6421\u001b[0m \u001b[32m━━━━━━━━━━━━━━━━━━━━\u001b[0m\u001b[37m\u001b[0m \u001b[1m120s\u001b[0m 19ms/step - accuracy: 0.8530 - loss: 0.3633 - val_accuracy: 0.8531 - val_loss: 0.3561\n",
      "Epoch 3/10\n",
      "\u001b[1m6421/6421\u001b[0m \u001b[32m━━━━━━━━━━━━━━━━━━━━\u001b[0m\u001b[37m\u001b[0m \u001b[1m98s\u001b[0m 15ms/step - accuracy: 0.8531 - loss: 0.3577 - val_accuracy: 0.8531 - val_loss: 0.3491\n",
      "Epoch 4/10\n",
      "\u001b[1m6421/6421\u001b[0m \u001b[32m━━━━━━━━━━━━━━━━━━━━\u001b[0m\u001b[37m\u001b[0m \u001b[1m83s\u001b[0m 13ms/step - accuracy: 0.8529 - loss: 0.3529 - val_accuracy: 0.8531 - val_loss: 0.3445\n",
      "Epoch 5/10\n",
      "\u001b[1m6421/6421\u001b[0m \u001b[32m━━━━━━━━━━━━━━━━━━━━\u001b[0m\u001b[37m\u001b[0m \u001b[1m89s\u001b[0m 14ms/step - accuracy: 0.8529 - loss: 0.3499 - val_accuracy: 0.8531 - val_loss: 0.3466\n",
      "Epoch 6/10\n",
      "\u001b[1m6421/6421\u001b[0m \u001b[32m━━━━━━━━━━━━━━━━━━━━\u001b[0m\u001b[37m\u001b[0m \u001b[1m92s\u001b[0m 14ms/step - accuracy: 0.8529 - loss: 0.3482 - val_accuracy: 0.8531 - val_loss: 0.3462\n",
      "Epoch 7/10\n",
      "\u001b[1m6421/6421\u001b[0m \u001b[32m━━━━━━━━━━━━━━━━━━━━\u001b[0m\u001b[37m\u001b[0m \u001b[1m82s\u001b[0m 13ms/step - accuracy: 0.8529 - loss: 0.3473 - val_accuracy: 0.8531 - val_loss: 0.3434\n",
      "Epoch 8/10\n",
      "\u001b[1m6421/6421\u001b[0m \u001b[32m━━━━━━━━━━━━━━━━━━━━\u001b[0m\u001b[37m\u001b[0m \u001b[1m77s\u001b[0m 12ms/step - accuracy: 0.8530 - loss: 0.3465 - val_accuracy: 0.8531 - val_loss: 0.3413\n",
      "Epoch 9/10\n",
      "\u001b[1m6421/6421\u001b[0m \u001b[32m━━━━━━━━━━━━━━━━━━━━\u001b[0m\u001b[37m\u001b[0m \u001b[1m76s\u001b[0m 12ms/step - accuracy: 0.8529 - loss: 0.3451 - val_accuracy: 0.8531 - val_loss: 0.3386\n",
      "Epoch 10/10\n",
      "\u001b[1m6421/6421\u001b[0m \u001b[32m━━━━━━━━━━━━━━━━━━━━\u001b[0m\u001b[37m\u001b[0m \u001b[1m83s\u001b[0m 13ms/step - accuracy: 0.8529 - loss: 0.3437 - val_accuracy: 0.8531 - val_loss: 0.3438\n"
     ]
    }
   ],
   "source": [
    "# モデルの訓練\n",
    "# モデルの訓練\n",
    "# history = model.fit(X_train, y_train, epochs=10, batch_size=64, validation_data=(X_val, y_val), verbose=1, shuffle=False)\n",
    "# history = model.fit(X_train.reshape(-1, 1, X_train.shape[1]), y_train, epochs=10, batch_size=64, validation_data=(X_val.reshape(-1, 1, X_val.shape[1]), y_val), verbose=1, shuffle=False)\n",
    "\n",
    "history = model.fit(\n",
    "    X_train_seq, y_train_seq,\n",
    "    epochs=10,\n",
    "    batch_size=64,\n",
    "    validation_data=(X_val_seq, y_val_seq),\n",
    "    verbose=1,\n",
    "    shuffle=False\n",
    ")\n"
   ]
  },
  {
   "cell_type": "code",
   "execution_count": 9,
   "id": "fa3c50d4-78d7-4da8-ab24-d32d2955832b",
   "metadata": {},
   "outputs": [
    {
     "name": "stderr",
     "output_type": "stream",
     "text": [
      "2024-08-27 21:49:14.032137: W tensorflow/core/framework/op_kernel.cc:1839] OP_REQUIRES failed at xla_ops.cc:580 : INVALID_ARGUMENT: only one input size may be -1, not both 0 and 1\n",
      "\n",
      "Stack trace for op definition: \n",
      "File \"home/eiji/miniconda3/envs/tf/lib/python3.9/runpy.py\", line 197, in _run_module_as_main\n",
      "File \"home/eiji/miniconda3/envs/tf/lib/python3.9/runpy.py\", line 87, in _run_code\n",
      "File \"home/eiji/miniconda3/envs/tf/lib/python3.9/site-packages/ipykernel_launcher.py\", line 17, in <module>\n",
      "File \"home/eiji/miniconda3/envs/tf/lib/python3.9/site-packages/traitlets/config/application.py\", line 992, in launch_instance\n",
      "File \"home/eiji/miniconda3/envs/tf/lib/python3.9/site-packages/ipykernel/kernelapp.py\", line 701, in start\n",
      "File \"home/eiji/miniconda3/envs/tf/lib/python3.9/site-packages/tornado/platform/asyncio.py\", line 195, in start\n",
      "File \"home/eiji/miniconda3/envs/tf/lib/python3.9/asyncio/base_events.py\", line 601, in run_forever\n",
      "File \"home/eiji/miniconda3/envs/tf/lib/python3.9/asyncio/base_events.py\", line 1905, in _run_once\n",
      "File \"home/eiji/miniconda3/envs/tf/lib/python3.9/asyncio/events.py\", line 80, in _run\n",
      "File \"home/eiji/miniconda3/envs/tf/lib/python3.9/site-packages/ipykernel/kernelbase.py\", line 534, in dispatch_queue\n",
      "File \"home/eiji/miniconda3/envs/tf/lib/python3.9/site-packages/ipykernel/kernelbase.py\", line 523, in process_one\n",
      "File \"home/eiji/miniconda3/envs/tf/lib/python3.9/site-packages/ipykernel/kernelbase.py\", line 429, in dispatch_shell\n",
      "File \"home/eiji/miniconda3/envs/tf/lib/python3.9/site-packages/ipykernel/kernelbase.py\", line 767, in execute_request\n",
      "File \"home/eiji/miniconda3/envs/tf/lib/python3.9/site-packages/ipykernel/ipkernel.py\", line 429, in do_execute\n",
      "File \"home/eiji/miniconda3/envs/tf/lib/python3.9/site-packages/ipykernel/zmqshell.py\", line 549, in run_cell\n",
      "File \"home/eiji/miniconda3/envs/tf/lib/python3.9/site-packages/IPython/core/interactiveshell.py\", line 3024, in run_cell\n",
      "File \"home/eiji/miniconda3/envs/tf/lib/python3.9/site-packages/IPython/core/interactiveshell.py\", line 3079, in _run_cell\n",
      "File \"home/eiji/miniconda3/envs/tf/lib/python3.9/site-packages/IPython/core/async_helpers.py\", line 129, in _pseudo_sync_runner\n",
      "File \"home/eiji/miniconda3/envs/tf/lib/python3.9/site-packages/IPython/core/interactiveshell.py\", line 3284, in run_cell_async\n",
      "File \"home/eiji/miniconda3/envs/tf/lib/python3.9/site-packages/IPython/core/interactiveshell.py\", line 3466, in run_ast_nodes\n",
      "File \"home/eiji/miniconda3/envs/tf/lib/python3.9/site-packages/IPython/core/interactiveshell.py\", line 3526, in run_code\n",
      "File \"tmp/ipykernel_37127/4274703079.py\", line 3, in <module>\n",
      "File \"home/eiji/miniconda3/envs/tf/lib/python3.9/site-packages/keras/src/utils/traceback_utils.py\", line 117, in error_handler\n",
      "File \"home/eiji/miniconda3/envs/tf/lib/python3.9/site-packages/keras/src/backend/tensorflow/trainer.py\", line 437, in evaluate\n",
      "File \"home/eiji/miniconda3/envs/tf/lib/python3.9/site-packages/keras/src/backend/tensorflow/trainer.py\", line 166, in one_step_on_iterator\n",
      "File \"home/eiji/miniconda3/envs/tf/lib/python3.9/site-packages/keras/src/backend/tensorflow/trainer.py\", line 154, in one_step_on_data\n",
      "File \"home/eiji/miniconda3/envs/tf/lib/python3.9/site-packages/keras/src/backend/tensorflow/trainer.py\", line 82, in test_step\n",
      "File \"home/eiji/miniconda3/envs/tf/lib/python3.9/site-packages/keras/src/utils/traceback_utils.py\", line 117, in error_handler\n",
      "File \"home/eiji/miniconda3/envs/tf/lib/python3.9/site-packages/keras/src/layers/layer.py\", line 814, in __call__\n",
      "File \"home/eiji/miniconda3/envs/tf/lib/python3.9/site-packages/keras/src/utils/traceback_utils.py\", line 117, in error_handler\n",
      "File \"home/eiji/miniconda3/envs/tf/lib/python3.9/site-packages/keras/src/ops/operation.py\", line 48, in __call__\n",
      "File \"home/eiji/miniconda3/envs/tf/lib/python3.9/site-packages/keras/src/utils/traceback_utils.py\", line 156, in error_handler\n",
      "File \"home/eiji/miniconda3/envs/tf/lib/python3.9/site-packages/keras/src/models/functional.py\", line 194, in call\n",
      "File \"home/eiji/miniconda3/envs/tf/lib/python3.9/site-packages/keras/src/ops/function.py\", line 151, in _run_through_graph\n",
      "File \"home/eiji/miniconda3/envs/tf/lib/python3.9/site-packages/keras/src/models/functional.py\", line 578, in call\n",
      "File \"home/eiji/miniconda3/envs/tf/lib/python3.9/site-packages/keras/src/utils/traceback_utils.py\", line 117, in error_handler\n",
      "File \"home/eiji/miniconda3/envs/tf/lib/python3.9/site-packages/keras/src/layers/layer.py\", line 814, in __call__\n",
      "File \"home/eiji/miniconda3/envs/tf/lib/python3.9/site-packages/keras/src/utils/traceback_utils.py\", line 117, in error_handler\n",
      "File \"home/eiji/miniconda3/envs/tf/lib/python3.9/site-packages/keras/src/ops/operation.py\", line 48, in __call__\n",
      "File \"home/eiji/miniconda3/envs/tf/lib/python3.9/site-packages/keras/src/utils/traceback_utils.py\", line 156, in error_handler\n",
      "File \"home/eiji/miniconda3/envs/tf/lib/python3.9/site-packages/keras/src/layers/reshaping/flatten.py\", line 54, in call\n",
      "File \"home/eiji/miniconda3/envs/tf/lib/python3.9/site-packages/keras/src/ops/numpy.py\", line 4507, in reshape\n",
      "File \"home/eiji/miniconda3/envs/tf/lib/python3.9/site-packages/keras/src/backend/tensorflow/numpy.py\", line 1545, in reshape\n",
      "\n",
      "\t [[{{node functional_2_1/flatten_1/Reshape}}]]\n",
      "\ttf2xla conversion failed while converting __inference_one_step_on_data_339957[]. Run with TF_DUMP_GRAPH_PREFIX=/path/to/dump/dir and --vmodule=xla_compiler=2 to obtain a dump of the compiled functions.\n",
      "2024-08-27 21:49:14.032171: W tensorflow/core/framework/local_rendezvous.cc:404] Local rendezvous is aborting with status: INVALID_ARGUMENT: only one input size may be -1, not both 0 and 1\n",
      "\n",
      "Stack trace for op definition: \n",
      "File \"home/eiji/miniconda3/envs/tf/lib/python3.9/runpy.py\", line 197, in _run_module_as_main\n",
      "File \"home/eiji/miniconda3/envs/tf/lib/python3.9/runpy.py\", line 87, in _run_code\n",
      "File \"home/eiji/miniconda3/envs/tf/lib/python3.9/site-packages/ipykernel_launcher.py\", line 17, in <module>\n",
      "File \"home/eiji/miniconda3/envs/tf/lib/python3.9/site-packages/traitlets/config/application.py\", line 992, in launch_instance\n",
      "File \"home/eiji/miniconda3/envs/tf/lib/python3.9/site-packages/ipykernel/kernelapp.py\", line 701, in start\n",
      "File \"home/eiji/miniconda3/envs/tf/lib/python3.9/site-packages/tornado/platform/asyncio.py\", line 195, in start\n",
      "File \"home/eiji/miniconda3/envs/tf/lib/python3.9/asyncio/base_events.py\", line 601, in run_forever\n",
      "File \"home/eiji/miniconda3/envs/tf/lib/python3.9/asyncio/base_events.py\", line 1905, in _run_once\n",
      "File \"home/eiji/miniconda3/envs/tf/lib/python3.9/asyncio/events.py\", line 80, in _run\n",
      "File \"home/eiji/miniconda3/envs/tf/lib/python3.9/site-packages/ipykernel/kernelbase.py\", line 534, in dispatch_queue\n",
      "File \"home/eiji/miniconda3/envs/tf/lib/python3.9/site-packages/ipykernel/kernelbase.py\", line 523, in process_one\n",
      "File \"home/eiji/miniconda3/envs/tf/lib/python3.9/site-packages/ipykernel/kernelbase.py\", line 429, in dispatch_shell\n",
      "File \"home/eiji/miniconda3/envs/tf/lib/python3.9/site-packages/ipykernel/kernelbase.py\", line 767, in execute_request\n",
      "File \"home/eiji/miniconda3/envs/tf/lib/python3.9/site-packages/ipykernel/ipkernel.py\", line 429, in do_execute\n",
      "File \"home/eiji/miniconda3/envs/tf/lib/python3.9/site-packages/ipykernel/zmqshell.py\", line 549, in run_cell\n",
      "File \"home/eiji/miniconda3/envs/tf/lib/python3.9/site-packages/IPython/core/interactiveshell.py\", line 3024, in run_cell\n",
      "File \"home/eiji/miniconda3/envs/tf/lib/python3.9/site-packages/IPython/core/interactiveshell.py\", line 3079, in _run_cell\n",
      "File \"home/eiji/miniconda3/envs/tf/lib/python3.9/site-packages/IPython/core/async_helpers.py\", line 129, in _pseudo_sync_runner\n",
      "File \"home/eiji/miniconda3/envs/tf/lib/python3.9/site-packages/IPython/core/interactiveshell.py\", line 3284, in run_cell_async\n",
      "File \"home/eiji/miniconda3/envs/tf/lib/python3.9/site-packages/IPython/core/interactiveshell.py\", line 3466, in run_ast_nodes\n",
      "File \"home/eiji/miniconda3/envs/tf/lib/python3.9/site-packages/IPython/core/interactiveshell.py\", line 3526, in run_code\n",
      "File \"tmp/ipykernel_37127/4274703079.py\", line 3, in <module>\n",
      "File \"home/eiji/miniconda3/envs/tf/lib/python3.9/site-packages/keras/src/utils/traceback_utils.py\", line 117, in error_handler\n",
      "File \"home/eiji/miniconda3/envs/tf/lib/python3.9/site-packages/keras/src/backend/tensorflow/trainer.py\", line 437, in evaluate\n",
      "File \"home/eiji/miniconda3/envs/tf/lib/python3.9/site-packages/keras/src/backend/tensorflow/trainer.py\", line 166, in one_step_on_iterator\n",
      "File \"home/eiji/miniconda3/envs/tf/lib/python3.9/site-packages/keras/src/backend/tensorflow/trainer.py\", line 154, in one_step_on_data\n",
      "File \"home/eiji/miniconda3/envs/tf/lib/python3.9/site-packages/keras/src/backend/tensorflow/trainer.py\", line 82, in test_step\n",
      "File \"home/eiji/miniconda3/envs/tf/lib/python3.9/site-packages/keras/src/utils/traceback_utils.py\", line 117, in error_handler\n",
      "File \"home/eiji/miniconda3/envs/tf/lib/python3.9/site-packages/keras/src/layers/layer.py\", line 814, in __call__\n",
      "File \"home/eiji/miniconda3/envs/tf/lib/python3.9/site-packages/keras/src/utils/traceback_utils.py\", line 117, in error_handler\n",
      "File \"home/eiji/miniconda3/envs/tf/lib/python3.9/site-packages/keras/src/ops/operation.py\", line 48, in __call__\n",
      "File \"home/eiji/miniconda3/envs/tf/lib/python3.9/site-packages/keras/src/utils/traceback_utils.py\", line 156, in error_handler\n",
      "File \"home/eiji/miniconda3/envs/tf/lib/python3.9/site-packages/keras/src/models/functional.py\", line 194, in call\n",
      "File \"home/eiji/miniconda3/envs/tf/lib/python3.9/site-packages/keras/src/ops/function.py\", line 151, in _run_through_graph\n",
      "File \"home/eiji/miniconda3/envs/tf/lib/python3.9/site-packages/keras/src/models/functional.py\", line 578, in call\n",
      "File \"home/eiji/miniconda3/envs/tf/lib/python3.9/site-packages/keras/src/utils/traceback_utils.py\", line 117, in error_handler\n",
      "File \"home/eiji/miniconda3/envs/tf/lib/python3.9/site-packages/keras/src/layers/layer.py\", line 814, in __call__\n",
      "File \"home/eiji/miniconda3/envs/tf/lib/python3.9/site-packages/keras/src/utils/traceback_utils.py\", line 117, in error_handler\n",
      "File \"home/eiji/miniconda3/envs/tf/lib/python3.9/site-packages/keras/src/ops/operation.py\", line 48, in __call__\n",
      "File \"home/eiji/miniconda3/envs/tf/lib/python3.9/site-packages/keras/src/utils/traceback_utils.py\", line 156, in error_handler\n",
      "File \"home/eiji/miniconda3/envs/tf/lib/python3.9/site-packages/keras/src/layers/reshaping/flatten.py\", line 54, in call\n",
      "File \"home/eiji/miniconda3/envs/tf/lib/python3.9/site-packages/keras/src/ops/numpy.py\", line 4507, in reshape\n",
      "File \"home/eiji/miniconda3/envs/tf/lib/python3.9/site-packages/keras/src/backend/tensorflow/numpy.py\", line 1545, in reshape\n",
      "\n",
      "\t [[{{node functional_2_1/flatten_1/Reshape}}]]\n",
      "\ttf2xla conversion failed while converting __inference_one_step_on_data_339957[]. Run with TF_DUMP_GRAPH_PREFIX=/path/to/dump/dir and --vmodule=xla_compiler=2 to obtain a dump of the compiled functions.\n",
      "\t [[StatefulPartitionedCall]]\n"
     ]
    },
    {
     "ename": "InvalidArgumentError",
     "evalue": "Graph execution error:\n\nDetected at node functional_2_1/flatten_1/Reshape defined at (most recent call last):\n<stack traces unavailable>\nonly one input size may be -1, not both 0 and 1\n\nStack trace for op definition: \nFile \"home/eiji/miniconda3/envs/tf/lib/python3.9/runpy.py\", line 197, in _run_module_as_main\nFile \"home/eiji/miniconda3/envs/tf/lib/python3.9/runpy.py\", line 87, in _run_code\nFile \"home/eiji/miniconda3/envs/tf/lib/python3.9/site-packages/ipykernel_launcher.py\", line 17, in <module>\nFile \"home/eiji/miniconda3/envs/tf/lib/python3.9/site-packages/traitlets/config/application.py\", line 992, in launch_instance\nFile \"home/eiji/miniconda3/envs/tf/lib/python3.9/site-packages/ipykernel/kernelapp.py\", line 701, in start\nFile \"home/eiji/miniconda3/envs/tf/lib/python3.9/site-packages/tornado/platform/asyncio.py\", line 195, in start\nFile \"home/eiji/miniconda3/envs/tf/lib/python3.9/asyncio/base_events.py\", line 601, in run_forever\nFile \"home/eiji/miniconda3/envs/tf/lib/python3.9/asyncio/base_events.py\", line 1905, in _run_once\nFile \"home/eiji/miniconda3/envs/tf/lib/python3.9/asyncio/events.py\", line 80, in _run\nFile \"home/eiji/miniconda3/envs/tf/lib/python3.9/site-packages/ipykernel/kernelbase.py\", line 534, in dispatch_queue\nFile \"home/eiji/miniconda3/envs/tf/lib/python3.9/site-packages/ipykernel/kernelbase.py\", line 523, in process_one\nFile \"home/eiji/miniconda3/envs/tf/lib/python3.9/site-packages/ipykernel/kernelbase.py\", line 429, in dispatch_shell\nFile \"home/eiji/miniconda3/envs/tf/lib/python3.9/site-packages/ipykernel/kernelbase.py\", line 767, in execute_request\nFile \"home/eiji/miniconda3/envs/tf/lib/python3.9/site-packages/ipykernel/ipkernel.py\", line 429, in do_execute\nFile \"home/eiji/miniconda3/envs/tf/lib/python3.9/site-packages/ipykernel/zmqshell.py\", line 549, in run_cell\nFile \"home/eiji/miniconda3/envs/tf/lib/python3.9/site-packages/IPython/core/interactiveshell.py\", line 3024, in run_cell\nFile \"home/eiji/miniconda3/envs/tf/lib/python3.9/site-packages/IPython/core/interactiveshell.py\", line 3079, in _run_cell\nFile \"home/eiji/miniconda3/envs/tf/lib/python3.9/site-packages/IPython/core/async_helpers.py\", line 129, in _pseudo_sync_runner\nFile \"home/eiji/miniconda3/envs/tf/lib/python3.9/site-packages/IPython/core/interactiveshell.py\", line 3284, in run_cell_async\nFile \"home/eiji/miniconda3/envs/tf/lib/python3.9/site-packages/IPython/core/interactiveshell.py\", line 3466, in run_ast_nodes\nFile \"home/eiji/miniconda3/envs/tf/lib/python3.9/site-packages/IPython/core/interactiveshell.py\", line 3526, in run_code\nFile \"tmp/ipykernel_37127/4274703079.py\", line 3, in <module>\nFile \"home/eiji/miniconda3/envs/tf/lib/python3.9/site-packages/keras/src/utils/traceback_utils.py\", line 117, in error_handler\nFile \"home/eiji/miniconda3/envs/tf/lib/python3.9/site-packages/keras/src/backend/tensorflow/trainer.py\", line 437, in evaluate\nFile \"home/eiji/miniconda3/envs/tf/lib/python3.9/site-packages/keras/src/backend/tensorflow/trainer.py\", line 166, in one_step_on_iterator\nFile \"home/eiji/miniconda3/envs/tf/lib/python3.9/site-packages/keras/src/backend/tensorflow/trainer.py\", line 154, in one_step_on_data\nFile \"home/eiji/miniconda3/envs/tf/lib/python3.9/site-packages/keras/src/backend/tensorflow/trainer.py\", line 82, in test_step\nFile \"home/eiji/miniconda3/envs/tf/lib/python3.9/site-packages/keras/src/utils/traceback_utils.py\", line 117, in error_handler\nFile \"home/eiji/miniconda3/envs/tf/lib/python3.9/site-packages/keras/src/layers/layer.py\", line 814, in __call__\nFile \"home/eiji/miniconda3/envs/tf/lib/python3.9/site-packages/keras/src/utils/traceback_utils.py\", line 117, in error_handler\nFile \"home/eiji/miniconda3/envs/tf/lib/python3.9/site-packages/keras/src/ops/operation.py\", line 48, in __call__\nFile \"home/eiji/miniconda3/envs/tf/lib/python3.9/site-packages/keras/src/utils/traceback_utils.py\", line 156, in error_handler\nFile \"home/eiji/miniconda3/envs/tf/lib/python3.9/site-packages/keras/src/models/functional.py\", line 194, in call\nFile \"home/eiji/miniconda3/envs/tf/lib/python3.9/site-packages/keras/src/ops/function.py\", line 151, in _run_through_graph\nFile \"home/eiji/miniconda3/envs/tf/lib/python3.9/site-packages/keras/src/models/functional.py\", line 578, in call\nFile \"home/eiji/miniconda3/envs/tf/lib/python3.9/site-packages/keras/src/utils/traceback_utils.py\", line 117, in error_handler\nFile \"home/eiji/miniconda3/envs/tf/lib/python3.9/site-packages/keras/src/layers/layer.py\", line 814, in __call__\nFile \"home/eiji/miniconda3/envs/tf/lib/python3.9/site-packages/keras/src/utils/traceback_utils.py\", line 117, in error_handler\nFile \"home/eiji/miniconda3/envs/tf/lib/python3.9/site-packages/keras/src/ops/operation.py\", line 48, in __call__\nFile \"home/eiji/miniconda3/envs/tf/lib/python3.9/site-packages/keras/src/utils/traceback_utils.py\", line 156, in error_handler\nFile \"home/eiji/miniconda3/envs/tf/lib/python3.9/site-packages/keras/src/layers/reshaping/flatten.py\", line 54, in call\nFile \"home/eiji/miniconda3/envs/tf/lib/python3.9/site-packages/keras/src/ops/numpy.py\", line 4507, in reshape\nFile \"home/eiji/miniconda3/envs/tf/lib/python3.9/site-packages/keras/src/backend/tensorflow/numpy.py\", line 1545, in reshape\n\n\t [[{{node functional_2_1/flatten_1/Reshape}}]]\n\ttf2xla conversion failed while converting __inference_one_step_on_data_339957[]. Run with TF_DUMP_GRAPH_PREFIX=/path/to/dump/dir and --vmodule=xla_compiler=2 to obtain a dump of the compiled functions.\n\t [[StatefulPartitionedCall]] [Op:__inference_one_step_on_iterator_340006]",
     "output_type": "error",
     "traceback": [
      "\u001b[0;31m---------------------------------------------------------------------------\u001b[0m",
      "\u001b[0;31mInvalidArgumentError\u001b[0m                      Traceback (most recent call last)",
      "Cell \u001b[0;32mIn[9], line 3\u001b[0m\n\u001b[1;32m      1\u001b[0m \u001b[38;5;66;03m# モデルの評価\u001b[39;00m\n\u001b[1;32m      2\u001b[0m \u001b[38;5;66;03m# loss, accuracy = model.evaluate(X_test, y_test, verbose=1)\u001b[39;00m\n\u001b[0;32m----> 3\u001b[0m loss, accuracy \u001b[38;5;241m=\u001b[39m \u001b[43mmodel\u001b[49m\u001b[38;5;241;43m.\u001b[39;49m\u001b[43mevaluate\u001b[49m\u001b[43m(\u001b[49m\u001b[43mX_test\u001b[49m\u001b[38;5;241;43m.\u001b[39;49m\u001b[43mreshape\u001b[49m\u001b[43m(\u001b[49m\u001b[38;5;241;43m-\u001b[39;49m\u001b[38;5;241;43m1\u001b[39;49m\u001b[43m,\u001b[49m\u001b[43m \u001b[49m\u001b[38;5;241;43m1\u001b[39;49m\u001b[43m,\u001b[49m\u001b[43m \u001b[49m\u001b[43mX_test\u001b[49m\u001b[38;5;241;43m.\u001b[39;49m\u001b[43mshape\u001b[49m\u001b[43m[\u001b[49m\u001b[38;5;241;43m1\u001b[39;49m\u001b[43m]\u001b[49m\u001b[43m)\u001b[49m\u001b[43m,\u001b[49m\u001b[43m \u001b[49m\u001b[43my_test\u001b[49m\u001b[43m,\u001b[49m\u001b[43m \u001b[49m\u001b[43mverbose\u001b[49m\u001b[38;5;241;43m=\u001b[39;49m\u001b[38;5;241;43m1\u001b[39;49m\u001b[43m)\u001b[49m\n\u001b[1;32m      4\u001b[0m \u001b[38;5;28mprint\u001b[39m(\u001b[38;5;124mf\u001b[39m\u001b[38;5;124m'\u001b[39m\u001b[38;5;124mTest Accuracy: \u001b[39m\u001b[38;5;132;01m{\u001b[39;00maccuracy\u001b[38;5;132;01m:\u001b[39;00m\u001b[38;5;124m.4f\u001b[39m\u001b[38;5;132;01m}\u001b[39;00m\u001b[38;5;124m'\u001b[39m)\n",
      "File \u001b[0;32m~/miniconda3/envs/tf/lib/python3.9/site-packages/keras/src/utils/traceback_utils.py:122\u001b[0m, in \u001b[0;36mfilter_traceback.<locals>.error_handler\u001b[0;34m(*args, **kwargs)\u001b[0m\n\u001b[1;32m    119\u001b[0m     filtered_tb \u001b[38;5;241m=\u001b[39m _process_traceback_frames(e\u001b[38;5;241m.\u001b[39m__traceback__)\n\u001b[1;32m    120\u001b[0m     \u001b[38;5;66;03m# To get the full stack trace, call:\u001b[39;00m\n\u001b[1;32m    121\u001b[0m     \u001b[38;5;66;03m# `keras.config.disable_traceback_filtering()`\u001b[39;00m\n\u001b[0;32m--> 122\u001b[0m     \u001b[38;5;28;01mraise\u001b[39;00m e\u001b[38;5;241m.\u001b[39mwith_traceback(filtered_tb) \u001b[38;5;28;01mfrom\u001b[39;00m \u001b[38;5;28;01mNone\u001b[39;00m\n\u001b[1;32m    123\u001b[0m \u001b[38;5;28;01mfinally\u001b[39;00m:\n\u001b[1;32m    124\u001b[0m     \u001b[38;5;28;01mdel\u001b[39;00m filtered_tb\n",
      "File \u001b[0;32m~/miniconda3/envs/tf/lib/python3.9/site-packages/tensorflow/python/eager/execute.py:53\u001b[0m, in \u001b[0;36mquick_execute\u001b[0;34m(op_name, num_outputs, inputs, attrs, ctx, name)\u001b[0m\n\u001b[1;32m     51\u001b[0m \u001b[38;5;28;01mtry\u001b[39;00m:\n\u001b[1;32m     52\u001b[0m   ctx\u001b[38;5;241m.\u001b[39mensure_initialized()\n\u001b[0;32m---> 53\u001b[0m   tensors \u001b[38;5;241m=\u001b[39m pywrap_tfe\u001b[38;5;241m.\u001b[39mTFE_Py_Execute(ctx\u001b[38;5;241m.\u001b[39m_handle, device_name, op_name,\n\u001b[1;32m     54\u001b[0m                                       inputs, attrs, num_outputs)\n\u001b[1;32m     55\u001b[0m \u001b[38;5;28;01mexcept\u001b[39;00m core\u001b[38;5;241m.\u001b[39m_NotOkStatusException \u001b[38;5;28;01mas\u001b[39;00m e:\n\u001b[1;32m     56\u001b[0m   \u001b[38;5;28;01mif\u001b[39;00m name \u001b[38;5;129;01mis\u001b[39;00m \u001b[38;5;129;01mnot\u001b[39;00m \u001b[38;5;28;01mNone\u001b[39;00m:\n",
      "\u001b[0;31mInvalidArgumentError\u001b[0m: Graph execution error:\n\nDetected at node functional_2_1/flatten_1/Reshape defined at (most recent call last):\n<stack traces unavailable>\nonly one input size may be -1, not both 0 and 1\n\nStack trace for op definition: \nFile \"home/eiji/miniconda3/envs/tf/lib/python3.9/runpy.py\", line 197, in _run_module_as_main\nFile \"home/eiji/miniconda3/envs/tf/lib/python3.9/runpy.py\", line 87, in _run_code\nFile \"home/eiji/miniconda3/envs/tf/lib/python3.9/site-packages/ipykernel_launcher.py\", line 17, in <module>\nFile \"home/eiji/miniconda3/envs/tf/lib/python3.9/site-packages/traitlets/config/application.py\", line 992, in launch_instance\nFile \"home/eiji/miniconda3/envs/tf/lib/python3.9/site-packages/ipykernel/kernelapp.py\", line 701, in start\nFile \"home/eiji/miniconda3/envs/tf/lib/python3.9/site-packages/tornado/platform/asyncio.py\", line 195, in start\nFile \"home/eiji/miniconda3/envs/tf/lib/python3.9/asyncio/base_events.py\", line 601, in run_forever\nFile \"home/eiji/miniconda3/envs/tf/lib/python3.9/asyncio/base_events.py\", line 1905, in _run_once\nFile \"home/eiji/miniconda3/envs/tf/lib/python3.9/asyncio/events.py\", line 80, in _run\nFile \"home/eiji/miniconda3/envs/tf/lib/python3.9/site-packages/ipykernel/kernelbase.py\", line 534, in dispatch_queue\nFile \"home/eiji/miniconda3/envs/tf/lib/python3.9/site-packages/ipykernel/kernelbase.py\", line 523, in process_one\nFile \"home/eiji/miniconda3/envs/tf/lib/python3.9/site-packages/ipykernel/kernelbase.py\", line 429, in dispatch_shell\nFile \"home/eiji/miniconda3/envs/tf/lib/python3.9/site-packages/ipykernel/kernelbase.py\", line 767, in execute_request\nFile \"home/eiji/miniconda3/envs/tf/lib/python3.9/site-packages/ipykernel/ipkernel.py\", line 429, in do_execute\nFile \"home/eiji/miniconda3/envs/tf/lib/python3.9/site-packages/ipykernel/zmqshell.py\", line 549, in run_cell\nFile \"home/eiji/miniconda3/envs/tf/lib/python3.9/site-packages/IPython/core/interactiveshell.py\", line 3024, in run_cell\nFile \"home/eiji/miniconda3/envs/tf/lib/python3.9/site-packages/IPython/core/interactiveshell.py\", line 3079, in _run_cell\nFile \"home/eiji/miniconda3/envs/tf/lib/python3.9/site-packages/IPython/core/async_helpers.py\", line 129, in _pseudo_sync_runner\nFile \"home/eiji/miniconda3/envs/tf/lib/python3.9/site-packages/IPython/core/interactiveshell.py\", line 3284, in run_cell_async\nFile \"home/eiji/miniconda3/envs/tf/lib/python3.9/site-packages/IPython/core/interactiveshell.py\", line 3466, in run_ast_nodes\nFile \"home/eiji/miniconda3/envs/tf/lib/python3.9/site-packages/IPython/core/interactiveshell.py\", line 3526, in run_code\nFile \"tmp/ipykernel_37127/4274703079.py\", line 3, in <module>\nFile \"home/eiji/miniconda3/envs/tf/lib/python3.9/site-packages/keras/src/utils/traceback_utils.py\", line 117, in error_handler\nFile \"home/eiji/miniconda3/envs/tf/lib/python3.9/site-packages/keras/src/backend/tensorflow/trainer.py\", line 437, in evaluate\nFile \"home/eiji/miniconda3/envs/tf/lib/python3.9/site-packages/keras/src/backend/tensorflow/trainer.py\", line 166, in one_step_on_iterator\nFile \"home/eiji/miniconda3/envs/tf/lib/python3.9/site-packages/keras/src/backend/tensorflow/trainer.py\", line 154, in one_step_on_data\nFile \"home/eiji/miniconda3/envs/tf/lib/python3.9/site-packages/keras/src/backend/tensorflow/trainer.py\", line 82, in test_step\nFile \"home/eiji/miniconda3/envs/tf/lib/python3.9/site-packages/keras/src/utils/traceback_utils.py\", line 117, in error_handler\nFile \"home/eiji/miniconda3/envs/tf/lib/python3.9/site-packages/keras/src/layers/layer.py\", line 814, in __call__\nFile \"home/eiji/miniconda3/envs/tf/lib/python3.9/site-packages/keras/src/utils/traceback_utils.py\", line 117, in error_handler\nFile \"home/eiji/miniconda3/envs/tf/lib/python3.9/site-packages/keras/src/ops/operation.py\", line 48, in __call__\nFile \"home/eiji/miniconda3/envs/tf/lib/python3.9/site-packages/keras/src/utils/traceback_utils.py\", line 156, in error_handler\nFile \"home/eiji/miniconda3/envs/tf/lib/python3.9/site-packages/keras/src/models/functional.py\", line 194, in call\nFile \"home/eiji/miniconda3/envs/tf/lib/python3.9/site-packages/keras/src/ops/function.py\", line 151, in _run_through_graph\nFile \"home/eiji/miniconda3/envs/tf/lib/python3.9/site-packages/keras/src/models/functional.py\", line 578, in call\nFile \"home/eiji/miniconda3/envs/tf/lib/python3.9/site-packages/keras/src/utils/traceback_utils.py\", line 117, in error_handler\nFile \"home/eiji/miniconda3/envs/tf/lib/python3.9/site-packages/keras/src/layers/layer.py\", line 814, in __call__\nFile \"home/eiji/miniconda3/envs/tf/lib/python3.9/site-packages/keras/src/utils/traceback_utils.py\", line 117, in error_handler\nFile \"home/eiji/miniconda3/envs/tf/lib/python3.9/site-packages/keras/src/ops/operation.py\", line 48, in __call__\nFile \"home/eiji/miniconda3/envs/tf/lib/python3.9/site-packages/keras/src/utils/traceback_utils.py\", line 156, in error_handler\nFile \"home/eiji/miniconda3/envs/tf/lib/python3.9/site-packages/keras/src/layers/reshaping/flatten.py\", line 54, in call\nFile \"home/eiji/miniconda3/envs/tf/lib/python3.9/site-packages/keras/src/ops/numpy.py\", line 4507, in reshape\nFile \"home/eiji/miniconda3/envs/tf/lib/python3.9/site-packages/keras/src/backend/tensorflow/numpy.py\", line 1545, in reshape\n\n\t [[{{node functional_2_1/flatten_1/Reshape}}]]\n\ttf2xla conversion failed while converting __inference_one_step_on_data_339957[]. Run with TF_DUMP_GRAPH_PREFIX=/path/to/dump/dir and --vmodule=xla_compiler=2 to obtain a dump of the compiled functions.\n\t [[StatefulPartitionedCall]] [Op:__inference_one_step_on_iterator_340006]"
     ]
    }
   ],
   "source": [
    "# モデルの評価\n",
    "# loss, accuracy = model.evaluate(X_test, y_test, verbose=1)\n",
    "loss, accuracy = model.evaluate(X_test.reshape(-1, 1, X_test.shape[1]), y_test, verbose=1)\n",
    "print(f'Test Accuracy: {accuracy:.4f}')"
   ]
  },
  {
   "cell_type": "code",
   "execution_count": 10,
   "id": "7406e1e9-f35d-41d1-9ecc-946c6236c219",
   "metadata": {},
   "outputs": [
    {
     "ename": "ValueError",
     "evalue": "Input 0 of layer \"functional_2\" is incompatible with the layer: expected shape=(None, 30, 5), found shape=(32, 1, 5)",
     "output_type": "error",
     "traceback": [
      "\u001b[0;31m---------------------------------------------------------------------------\u001b[0m",
      "\u001b[0;31mValueError\u001b[0m                                Traceback (most recent call last)",
      "Cell \u001b[0;32mIn[10], line 6\u001b[0m\n\u001b[1;32m      3\u001b[0m \u001b[38;5;28;01mimport\u001b[39;00m \u001b[38;5;21;01mmatplotlib\u001b[39;00m\u001b[38;5;21;01m.\u001b[39;00m\u001b[38;5;21;01mpyplot\u001b[39;00m \u001b[38;5;28;01mas\u001b[39;00m \u001b[38;5;21;01mplt\u001b[39;00m\n\u001b[1;32m      5\u001b[0m \u001b[38;5;66;03m# 予測の実行\u001b[39;00m\n\u001b[0;32m----> 6\u001b[0m y_pred \u001b[38;5;241m=\u001b[39m \u001b[43mmodel\u001b[49m\u001b[38;5;241;43m.\u001b[39;49m\u001b[43mpredict\u001b[49m\u001b[43m(\u001b[49m\u001b[43mX_test\u001b[49m\u001b[38;5;241;43m.\u001b[39;49m\u001b[43mreshape\u001b[49m\u001b[43m(\u001b[49m\u001b[38;5;241;43m-\u001b[39;49m\u001b[38;5;241;43m1\u001b[39;49m\u001b[43m,\u001b[49m\u001b[43m \u001b[49m\u001b[38;5;241;43m1\u001b[39;49m\u001b[43m,\u001b[49m\u001b[43m \u001b[49m\u001b[43mX_test\u001b[49m\u001b[38;5;241;43m.\u001b[39;49m\u001b[43mshape\u001b[49m\u001b[43m[\u001b[49m\u001b[38;5;241;43m1\u001b[39;49m\u001b[43m]\u001b[49m\u001b[43m)\u001b[49m\u001b[43m)\u001b[49m\n\u001b[1;32m      7\u001b[0m y_pred_classes \u001b[38;5;241m=\u001b[39m (y_pred \u001b[38;5;241m>\u001b[39m \u001b[38;5;241m0.5\u001b[39m)\u001b[38;5;241m.\u001b[39mastype(\u001b[38;5;28mint\u001b[39m)  \u001b[38;5;66;03m# 閾値0.5でクラスに変換\u001b[39;00m\n\u001b[1;32m     10\u001b[0m \u001b[38;5;66;03m# 混同行列の計算\u001b[39;00m\n",
      "File \u001b[0;32m~/miniconda3/envs/tf/lib/python3.9/site-packages/keras/src/utils/traceback_utils.py:122\u001b[0m, in \u001b[0;36mfilter_traceback.<locals>.error_handler\u001b[0;34m(*args, **kwargs)\u001b[0m\n\u001b[1;32m    119\u001b[0m     filtered_tb \u001b[38;5;241m=\u001b[39m _process_traceback_frames(e\u001b[38;5;241m.\u001b[39m__traceback__)\n\u001b[1;32m    120\u001b[0m     \u001b[38;5;66;03m# To get the full stack trace, call:\u001b[39;00m\n\u001b[1;32m    121\u001b[0m     \u001b[38;5;66;03m# `keras.config.disable_traceback_filtering()`\u001b[39;00m\n\u001b[0;32m--> 122\u001b[0m     \u001b[38;5;28;01mraise\u001b[39;00m e\u001b[38;5;241m.\u001b[39mwith_traceback(filtered_tb) \u001b[38;5;28;01mfrom\u001b[39;00m \u001b[38;5;28;01mNone\u001b[39;00m\n\u001b[1;32m    123\u001b[0m \u001b[38;5;28;01mfinally\u001b[39;00m:\n\u001b[1;32m    124\u001b[0m     \u001b[38;5;28;01mdel\u001b[39;00m filtered_tb\n",
      "File \u001b[0;32m~/miniconda3/envs/tf/lib/python3.9/site-packages/keras/src/layers/input_spec.py:245\u001b[0m, in \u001b[0;36massert_input_compatibility\u001b[0;34m(input_spec, inputs, layer_name)\u001b[0m\n\u001b[1;32m    243\u001b[0m \u001b[38;5;28;01mif\u001b[39;00m spec_dim \u001b[38;5;129;01mis\u001b[39;00m \u001b[38;5;129;01mnot\u001b[39;00m \u001b[38;5;28;01mNone\u001b[39;00m \u001b[38;5;129;01mand\u001b[39;00m dim \u001b[38;5;129;01mis\u001b[39;00m \u001b[38;5;129;01mnot\u001b[39;00m \u001b[38;5;28;01mNone\u001b[39;00m:\n\u001b[1;32m    244\u001b[0m     \u001b[38;5;28;01mif\u001b[39;00m spec_dim \u001b[38;5;241m!=\u001b[39m dim:\n\u001b[0;32m--> 245\u001b[0m         \u001b[38;5;28;01mraise\u001b[39;00m \u001b[38;5;167;01mValueError\u001b[39;00m(\n\u001b[1;32m    246\u001b[0m             \u001b[38;5;124mf\u001b[39m\u001b[38;5;124m'\u001b[39m\u001b[38;5;124mInput \u001b[39m\u001b[38;5;132;01m{\u001b[39;00minput_index\u001b[38;5;132;01m}\u001b[39;00m\u001b[38;5;124m of layer \u001b[39m\u001b[38;5;124m\"\u001b[39m\u001b[38;5;132;01m{\u001b[39;00mlayer_name\u001b[38;5;132;01m}\u001b[39;00m\u001b[38;5;124m\"\u001b[39m\u001b[38;5;124m is \u001b[39m\u001b[38;5;124m'\u001b[39m\n\u001b[1;32m    247\u001b[0m             \u001b[38;5;124m\"\u001b[39m\u001b[38;5;124mincompatible with the layer: \u001b[39m\u001b[38;5;124m\"\u001b[39m\n\u001b[1;32m    248\u001b[0m             \u001b[38;5;124mf\u001b[39m\u001b[38;5;124m\"\u001b[39m\u001b[38;5;124mexpected shape=\u001b[39m\u001b[38;5;132;01m{\u001b[39;00mspec\u001b[38;5;241m.\u001b[39mshape\u001b[38;5;132;01m}\u001b[39;00m\u001b[38;5;124m, \u001b[39m\u001b[38;5;124m\"\u001b[39m\n\u001b[1;32m    249\u001b[0m             \u001b[38;5;124mf\u001b[39m\u001b[38;5;124m\"\u001b[39m\u001b[38;5;124mfound shape=\u001b[39m\u001b[38;5;132;01m{\u001b[39;00mshape\u001b[38;5;132;01m}\u001b[39;00m\u001b[38;5;124m\"\u001b[39m\n\u001b[1;32m    250\u001b[0m         )\n",
      "\u001b[0;31mValueError\u001b[0m: Input 0 of layer \"functional_2\" is incompatible with the layer: expected shape=(None, 30, 5), found shape=(32, 1, 5)"
     ]
    }
   ],
   "source": [
    "from sklearn.metrics import confusion_matrix, classification_report\n",
    "import seaborn as sns\n",
    "import matplotlib.pyplot as plt\n",
    "\n",
    "# 予測の実行\n",
    "y_pred = model.predict(X_test.reshape(-1, 1, X_test.shape[1]))\n",
    "y_pred_classes = (y_pred > 0.5).astype(int)  # 閾値0.5でクラスに変換\n",
    "\n",
    "\n",
    "# 混同行列の計算\n",
    "conf_matrix = confusion_matrix(y_test, y_pred_classes)\n",
    "\n",
    "# 混同行列の表示\n",
    "plt.figure(figsize=(8, 6))\n",
    "sns.heatmap(conf_matrix, annot=True, fmt='d', cmap='Blues')\n",
    "plt.title('Confusion Matrix')\n",
    "plt.xlabel('Predicted Label')\n",
    "plt.ylabel('True Label')\n",
    "plt.show()\n",
    "\n",
    "# 精度、適合率、再現率、F1スコアのレポート\n",
    "print(classification_report(y_test, y_pred_classes))\n"
   ]
  },
  {
   "cell_type": "code",
   "execution_count": null,
   "id": "0c87a4eb-c2ce-41a5-acf9-c46f6d386aec",
   "metadata": {},
   "outputs": [],
   "source": []
  }
 ],
 "metadata": {
  "kernelspec": {
   "display_name": "Python 3 (ipykernel)",
   "language": "python",
   "name": "python3"
  },
  "language_info": {
   "codemirror_mode": {
    "name": "ipython",
    "version": 3
   },
   "file_extension": ".py",
   "mimetype": "text/x-python",
   "name": "python",
   "nbconvert_exporter": "python",
   "pygments_lexer": "ipython3",
   "version": "3.9.18"
  }
 },
 "nbformat": 4,
 "nbformat_minor": 5
}
